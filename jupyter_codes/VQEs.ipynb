{
 "cells": [
  {
   "cell_type": "markdown",
   "metadata": {},
   "source": [
    "# Variational Quantum Eigensolvers"
   ]
  },
  {
   "cell_type": "markdown",
   "metadata": {},
   "source": [
    "Defining new LaTeX commands for bra and ket vectors...\n",
    "$\\newcommand{\\ket}[1]{\\left|{#1}\\right\\rangle}$\n",
    "$\\newcommand{\\bra}[1]{\\left\\langle{#1}\\right|}$"
   ]
  },
  {
   "cell_type": "code",
   "execution_count": 1,
   "metadata": {},
   "outputs": [],
   "source": [
    "import numpy as np\n",
    "import matplotlib.pyplot as plt\n",
    "from qiskit import QuantumCircuit, ClassicalRegister, QuantumRegister\n",
    "from qiskit import Aer, transpile, assemble\n",
    "from qiskit.aqua.components.optimizers import COBYLA, SPSA, SLSQP"
   ]
  },
  {
   "cell_type": "markdown",
   "metadata": {},
   "source": [
    "These are based on the variational principle, as in quantum mechanics. The goal is to find an upper bound on the lowest eigenvalue of some system. It can be shown that for a Hamiltonian $H$ and an arbitrary wavefunction $\\ket{\\psi}$, the lowest eigenvalue satisfies $$\\lambda_{min} \\, \\leq \\, \\bra{\\psi}H\\ket{\\psi}.$$ Hence, we can choose an ansatz wavefunction and update it iteratively to obtain bettter and better bound."
   ]
  },
  {
   "cell_type": "markdown",
   "metadata": {},
   "source": [
    "For VQE, we would like to be able to generate an arbitrary initial state and construct a \"universal circuit\"/variational form $U(\\theta)$ that can take it to any other state $\\ket{\\psi(\\theta)}$. For a single quibit this is just the $U3(\\theta, \\phi, \\lambda)$ gate. For many qubits, that kind of circuits require a lot of parameters that need to optimized efficiently."
   ]
  },
  {
   "cell_type": "markdown",
   "metadata": {},
   "source": [
    "Gradient descent is an intuitive approach, but requires too many evaluations, so it is not best for VQE. A good optimizer is SPSA. which perturbs all the parameters simultaneously in a random fashion."
   ]
  },
  {
   "cell_type": "markdown",
   "metadata": {},
   "source": [
    "For noise-free simulations, one can also use COBYLA and SLSQP optimizers."
   ]
  },
  {
   "cell_type": "markdown",
   "metadata": {},
   "source": [
    "## Single qubit example"
   ]
  },
  {
   "cell_type": "markdown",
   "metadata": {},
   "source": [
    "Here we generate a random 2-component vector $\\vec{x}$ and try to find a quantum circuit that produces a state close to $\\vec{x}$."
   ]
  },
  {
   "cell_type": "code",
   "execution_count": 2,
   "metadata": {},
   "outputs": [
    {
     "name": "stdout",
     "output_type": "stream",
     "text": [
      "[0.63471494 0.36528506]\n"
     ]
    }
   ],
   "source": [
    "target_distr = np.random.rand(2) # Generate a random 2-component vector\n",
    "target_distr /= np.sum(target_distr) # Normalize the vector\n",
    "print(target_distr)"
   ]
  },
  {
   "cell_type": "markdown",
   "metadata": {},
   "source": [
    "Define a function that returns a QuantumCircuit object. The function takes in parameters of the circuit as an argument. In this case the circuit produced is a simple U3 gate."
   ]
  },
  {
   "cell_type": "code",
   "execution_count": 3,
   "metadata": {},
   "outputs": [
    {
     "data": {
      "image/png": "[encoded data removed]",
      "text/plain": [
       "<Figure size 193.726x144.48 with 1 Axes>"
      ]
     },
     "execution_count": 3,
     "metadata": {},
     "output_type": "execute_result"
    }
   ],
   "source": [
    "# Define the quantum circuit with the U3 gate\n",
    "def get_var_form(params):\n",
    "    qr = QuantumRegister(1, name=\"q\")\n",
    "    cr = ClassicalRegister(1, name='c')\n",
    "    qc = QuantumCircuit(qr, cr)\n",
    "    qc.u(params[0], params[1], params[2], qr[0])\n",
    "    qc.measure(qr, cr[0])\n",
    "    return qc\n",
    "\n",
    "test_circ = get_var_form([np.pi, np.pi, np.pi])\n",
    "test_circ.draw('mpl')"
   ]
  },
  {
   "cell_type": "markdown",
   "metadata": {},
   "source": [
    "Here we define the objective function which performs the simulation with parameters given as arguments and returns the cost function that is to be minimized:"
   ]
  },
  {
   "cell_type": "code",
   "execution_count": 4,
   "metadata": {},
   "outputs": [],
   "source": [
    "backend = Aer.get_backend(\"qasm_simulator\")\n",
    "NUM_SHOTS = 10000\n",
    "\n",
    "# Converts counts into probabilities\n",
    "def get_probability_distribution(counts):\n",
    "    # Divide by NUM_SHOTS to get probabilities\n",
    "    output_distr = [v / NUM_SHOTS for v in counts.values()]\n",
    "    \n",
    "    # In case there is only one possible final state\n",
    "    if len(output_distr) == 1:\n",
    "        output_distr.append(1 - output_distr[0])\n",
    "    return output_distr\n",
    "\n",
    "def objective_function(params):\n",
    "    # Obtain a quantum circuit instance from the parameters\n",
    "    qc = get_var_form(params)\n",
    "    \n",
    "    # Execute the quantum circuit to obtain the probability distribution\n",
    "    # associated with the current parameters\n",
    "    t_qc = transpile(qc, backend)\n",
    "    qobj = assemble(t_qc, shots=NUM_SHOTS)\n",
    "    result = backend.run(qobj).result()\n",
    "    \n",
    "    # Obtain the counts for each measured state, and convert those counts\n",
    "    # into a probability vector\n",
    "    output_distr = get_probability_distribution(result.get_counts(qc))\n",
    "    \n",
    "    # Calculate the cost as the distance between the output distribution\n",
    "    # and the target distribution\n",
    "    cost = sum([np.abs(output_distr[i] - target_distr[i])\n",
    "                for i in range(2)])\n",
    "    \n",
    "    return cost"
   ]
  },
  {
   "cell_type": "markdown",
   "metadata": {},
   "source": [
    "Perform the actual calculation by using the COBYLA optimizer on our objective function, starting with random parameters:"
   ]
  },
  {
   "cell_type": "code",
   "execution_count": 5,
   "metadata": {},
   "outputs": [
    {
     "name": "stdout",
     "output_type": "stream",
     "text": [
      "Target Distribution: [0.63471494 0.36528506]\n",
      "Obtained Distribution: [0.6412, 0.3588]\n",
      "Output Error (Manhattan Distance): 0.02377012723873073\n",
      "Parameters Found: [1.2821412  0.8776622  0.63773462]\n"
     ]
    }
   ],
   "source": [
    "# Initialize the COBYLA optimizer\n",
    "optimizer = COBYLA(maxiter=1000, tol=0.000001)\n",
    "\n",
    "# Create the initial parameters (our 1-qubit variational form has 3 parameters)\n",
    "params = np.random.rand(3)\n",
    "\n",
    "# Perform the optimization\n",
    "ret = optimizer.optimize(num_vars=3,\n",
    "                         objective_function=objective_function,\n",
    "                         initial_point=params)\n",
    "\n",
    "# Obtain the output distribution using the final parameters\n",
    "qc = get_var_form(ret[0])\n",
    "t_qc = transpile(qc, backend)\n",
    "qobj = assemble(t_qc, shots=NUM_SHOTS)\n",
    "counts = backend.run(qobj).result().get_counts(qc)\n",
    "output_distr = get_probability_distribution(counts)\n",
    "\n",
    "print(\"Target Distribution:\", target_distr)\n",
    "print(\"Obtained Distribution:\", output_distr)\n",
    "print(\"Output Error (Manhattan Distance):\", ret[1])\n",
    "print(\"Parameters Found:\", ret[0])"
   ]
  },
  {
   "cell_type": "markdown",
   "metadata": {},
   "source": [
    "## Common variational forms"
   ]
  },
  {
   "cell_type": "markdown",
   "metadata": {},
   "source": [
    "It is not possible to generate all the states from a polynomially parametrized variational form. Two ways to solve it:\n",
    "- Domain-specific knowledge (Coupled-Cluster theory, Hartreee-Fock)\n",
    "- Heuristic circuits (RyRz, Ry, SwapRz)"
   ]
  },
  {
   "cell_type": "markdown",
   "metadata": {},
   "source": [
    "Here is an example of a circuit for RyRz with different entanglement types:"
   ]
  },
  {
   "cell_type": "code",
   "execution_count": 6,
   "metadata": {
    "scrolled": false
   },
   "outputs": [
    {
     "name": "stdout",
     "output_type": "stream",
     "text": [
      "=============Linear Entanglement:=============\n"
     ]
    },
    {
     "data": {
      "image/png": "[encoded data removed]",
      "text/plain": [
       "<Figure size 1049.8x264.88 with 1 Axes>"
      ]
     },
     "metadata": {},
     "output_type": "display_data"
    },
    {
     "name": "stdout",
     "output_type": "stream",
     "text": [
      "\n",
      "=============Full Entanglement:=============\n"
     ]
    },
    {
     "data": {
      "image/png": "[encoded data removed]",
      "text/plain": [
       "<Figure size 1411x264.88 with 1 Axes>"
      ]
     },
     "metadata": {},
     "output_type": "display_data"
    },
    {
     "name": "stdout",
     "output_type": "stream",
     "text": [
      "\n",
      "=============Circular Entanglement:=============\n"
     ]
    },
    {
     "data": {
      "image/png": "[encoded data removed]",
      "text/plain": [
       "<Figure size 1170.2x264.88 with 1 Axes>"
      ]
     },
     "metadata": {},
     "output_type": "display_data"
    },
    {
     "name": "stdout",
     "output_type": "stream",
     "text": [
      "\n",
      "=============SCA Entanglement:=============\n"
     ]
    },
    {
     "data": {
      "image/png": "[encoded data removed]",
      "text/plain": [
       "<Figure size 1170.2x264.88 with 1 Axes>"
      ]
     },
     "metadata": {},
     "output_type": "display_data"
    },
    {
     "name": "stdout",
     "output_type": "stream",
     "text": [
      "\n"
     ]
    }
   ],
   "source": [
    "# Efficirnt SU(2) circuit consists of layers of single qubit operations\n",
    "# spanned by SU(2) and CNOT entanglements\n",
    "from qiskit.circuit.library import EfficientSU2\n",
    "\n",
    "entanglements = [\"linear\", \"full\", \"circular\", \"sca\"]\n",
    "for entanglement in entanglements:\n",
    "    form = EfficientSU2(num_qubits=4, entanglement=entanglement,\n",
    "                        insert_barriers=True, reps=2, # 2 repetitions\n",
    "                        su2_gates=['ry','rz']) # Choose the form\n",
    "    \n",
    "    if entanglement == \"linear\":\n",
    "        print(\"=============Linear Entanglement:=============\")\n",
    "    elif entanglement == \"full\":\n",
    "        print(\"=============Full Entanglement:=============\")\n",
    "    elif entanglement == \"circular\":\n",
    "        print(\"=============Circular Entanglement:=============\")\n",
    "    else:\n",
    "        print(\"=============SCA Entanglement:=============\")\n",
    "\n",
    "    # We initialize all parameters to 0 for this demonstration\n",
    "    display(form.decompose().draw(output='mpl', fold = 25))\n",
    "    print()"
   ]
  },
  {
   "cell_type": "markdown",
   "metadata": {},
   "source": [
    "## Simple VQE example on $H_2$"
   ]
  },
  {
   "cell_type": "markdown",
   "metadata": {},
   "source": [
    "We present a very simple example of using VQE to find the ground state enery of an $H_2$ molecule:"
   ]
  },
  {
   "cell_type": "code",
   "execution_count": 2,
   "metadata": {},
   "outputs": [],
   "source": [
    "from qiskit.algorithms import VQE\n",
    "from qiskit.algorithms.optimizers import SLSQP\n",
    "from qiskit.circuit.library import TwoLocal\n",
    "from qiskit import Aer\n",
    "from qiskit.utils import QuantumInstance\n",
    "from qiskit.opflow import X, Z, I"
   ]
  },
  {
   "cell_type": "code",
   "execution_count": 3,
   "metadata": {},
   "outputs": [
    {
     "name": "stdout",
     "output_type": "stream",
     "text": [
      "Our parametrised ansatz is:\n"
     ]
    },
    {
     "data": {
      "text/plain": [
       "<Figure size 705.35x200.667 with 1 Axes>"
      ]
     },
     "metadata": {},
     "output_type": "display_data"
    }
   ],
   "source": [
    "num_qubits = 2 # 2 electrons\n",
    "ansatz = TwoLocal(num_qubits, 'ry', 'cz')\n",
    "opt = SLSQP(maxiter=1000)\n",
    "vqe = VQE(ansatz, optimizer=opt)\n",
    "print(\"Our parametrised ansatz is:\")\n",
    "display(ansatz.decompose().draw('mpl'))"
   ]
  },
  {
   "cell_type": "code",
   "execution_count": 4,
   "metadata": {},
   "outputs": [],
   "source": [
    "backend = Aer.get_backend('aer_simulator')\n",
    "quantum_instance = QuantumInstance(backend=backend, shots=1024)\n",
    "vqe.quantum_instance = quantum_instance"
   ]
  },
  {
   "cell_type": "code",
   "execution_count": 6,
   "metadata": {},
   "outputs": [
    {
     "name": "stdout",
     "output_type": "stream",
     "text": [
      "[[-1.06365335  0.          0.          0.1809312 ]\n",
      " [ 0.         -1.83696799  0.1809312   0.        ]\n",
      " [ 0.          0.1809312  -0.24521829  0.        ]\n",
      " [ 0.1809312   0.          0.         -1.06365335]]\n"
     ]
    }
   ],
   "source": [
    "H2_op = (-1.052373245772859 * I ^ I) + \\\n",
    "        (0.39793742484318045 * I ^ Z) + \\\n",
    "        (-0.39793742484318045 * Z ^ I) + \\\n",
    "        (-0.01128010425623538 * Z ^ Z) + \\\n",
    "        (0.18093119978423156 * X ^ X)\n",
    "print(H2_op.to_matrix().real)"
   ]
  },
  {
   "cell_type": "code",
   "execution_count": 31,
   "metadata": {},
   "outputs": [
    {
     "name": "stdout",
     "output_type": "stream",
     "text": [
      "-0.9949861442618428\n"
     ]
    }
   ],
   "source": [
    "result = vqe.compute_minimum_eigenvalue(H2_op)\n",
    "print(result.eigenvalue.real)"
   ]
  },
  {
   "cell_type": "markdown",
   "metadata": {},
   "source": [
    "## VQE for ground state of LiH"
   ]
  },
  {
   "cell_type": "markdown",
   "metadata": {},
   "source": [
    "We need to import many things..."
   ]
  },
  {
   "cell_type": "code",
   "execution_count": 18,
   "metadata": {},
   "outputs": [],
   "source": [
    "from qiskit import IBMQ, BasicAer\n",
    "from qiskit.providers.ibmq import least_busy\n",
    "from qiskit.providers.aer.noise import NoiseModel\n",
    "\n",
    "from qiskit.aqua import QuantumInstance\n",
    "from qiskit.aqua.algorithms import VQE, NumPyEigensolver\n",
    "from qiskit.aqua.operators import Z2Symmetries\n",
    "\n",
    "from qiskit.chemistry.drivers import PySCFDriver, UnitsType\n",
    "from qiskit.chemistry import FermionicOperator\n",
    "from qiskit.chemistry.components.variational_forms import UCCSD\n",
    "from qiskit.chemistry.components.initial_states import HartreeFock\n",
    "\n",
    "from qiskit.ignis.mitigation.measurement import CompleteMeasFitter"
   ]
  },
  {
   "cell_type": "markdown",
   "metadata": {},
   "source": [
    "Define a fnction of interatomic distance 'dist'. It calculates some properties of a molecule through a classical PySCF driver. The core modes are freezed and unoccupied modes are removed. Then a fermionic operator is created from the resulting integrals. It is later transformed into a qubit operator and returned."
   ]
  },
  {
   "cell_type": "code",
   "execution_count": 8,
   "metadata": {},
   "outputs": [],
   "source": [
    "def get_qubit_op(dist):\n",
    "    driver = PySCFDriver(atom=\"Li .0 .0 .0; H .0 .0 \" + str(dist), # Define atom positions\n",
    "                         unit=UnitsType.ANGSTROM, # Set units\n",
    "                         charge=0, spin=0, basis='sto3g')\n",
    "    molecule = driver.run() # QMolecule object\n",
    "    \n",
    "    repulsion_energy = molecule.nuclear_repulsion_energy\n",
    "    num_particles = molecule.num_alpha + molecule.num_beta # no. of electrons = 4\n",
    "    num_spin_orbitals = molecule.num_orbitals * 2 # Why it gives 12?\n",
    "    \n",
    "    # To reduce the number of used qubits, the core orbitals are freezed\n",
    "    # while the unoccupied are removed\n",
    "    freeze_list = [0]\n",
    "    remove_list = [-3, -2]\n",
    "    # Take modulo 6\n",
    "    freeze_list = [x % molecule.num_orbitals for x in freeze_list] # [0]\n",
    "    remove_list = [x % molecule.num_orbitals for x in remove_list] #[3, 4]\n",
    "\n",
    "    remove_list = [x - len(freeze_list) for x in remove_list] # [2, 3]\n",
    "    remove_list += [x + molecule.num_orbitals - len(freeze_list)\n",
    "                    for x in remove_list] # [2, 3, 7, 8]\n",
    "    freeze_list += [x + molecule.num_orbitals\n",
    "                    for x in freeze_list] # [0, 6]\n",
    "    \n",
    "    # Create a femionic operator\n",
    "    ferOp = FermionicOperator(h1=molecule.one_body_integrals,\n",
    "                              h2=molecule.two_body_integrals)\n",
    "    # Freeze the given modes and provide shifted energy after freezing\n",
    "    ferOp, energy_shift = ferOp.fermion_mode_freezing(freeze_list)\n",
    "    num_spin_orbitals -= len(freeze_list) # 10\n",
    "    num_particles -= len(freeze_list) # 2\n",
    "    # Eliminate the given modes\n",
    "    ferOp = ferOp.fermion_mode_elimination(remove_list)\n",
    "    num_spin_orbitals -= len(remove_list) # 6\n",
    "    \n",
    "    # Map fermionic operator to a qubit operator\n",
    "    qubitOp = ferOp.mapping(map_type='parity', threshold=0.00000001)\n",
    "    qubitOp = Z2Symmetries.two_qubit_reduction(qubitOp, num_particles)\n",
    "    \n",
    "    total_shift = energy_shift + repulsion_energy\n",
    "    \n",
    "    return qubitOp, num_particles, num_spin_orbitals, total_shift"
   ]
  },
  {
   "cell_type": "markdown",
   "metadata": {},
   "source": [
    "Here we finally run the VQE algorithm:"
   ]
  },
  {
   "cell_type": "code",
   "execution_count": 9,
   "metadata": {},
   "outputs": [
    {
     "name": "stdout",
     "output_type": "stream",
     "text": [
      "Interatomic Distance: 0.5 VQE Result: -7.039673441337947 Exact Energy: [-7.03973252]\n",
      "Interatomic Distance: 0.6 VQE Result: -7.3133088798023245 Exact Energy: [-7.31334583]\n",
      "Interatomic Distance: 0.7 VQE Result: -7.500887034835576 Exact Energy: [-7.50092209]\n",
      "Interatomic Distance: 0.8 VQE Result: -7.630945410431264 Exact Energy: [-7.63097825]\n",
      "Interatomic Distance: 0.9 VQE Result: -7.7207810996161905 Exact Energy: [-7.72081241]\n",
      "Interatomic Distance: 1.0 VQE Result: -7.78221160011128 Exact Energy: [-7.7822424]\n",
      "Interatomic Distance: 1.1 VQE Result: -7.823568080841347 Exact Energy: [-7.82359928]\n",
      "Interatomic Distance: 1.2 VQE Result: -7.850666131754318 Exact Energy: [-7.85069838]\n",
      "Interatomic Distance: 1.3 VQE Result: -7.867529586841324 Exact Energy: [-7.86756329]\n",
      "Interatomic Distance: 1.4 VQE Result: -7.876966254560179 Exact Energy: [-7.87700149]\n",
      "Interatomic Distance: 1.5 VQE Result: -7.880979508007194 Exact Energy: [-7.88101572]\n",
      "Interatomic Distance: 1.6 VQE Result: -7.881036616091609 Exact Energy: [-7.88107204]\n",
      "Interatomic Distance: 1.7 VQE Result: -7.878236970734347 Exact Energy: [-7.87826817]\n",
      "Interatomic Distance: 1.8 VQE Result: -7.873345219265787 Exact Energy: [-7.87344029]\n",
      "Interatomic Distance: 1.9 VQE Result: -7.86713750541074 Exact Energy: [-7.86723396]\n",
      "Interatomic Distance: 2.0 VQE Result: -7.860068379160834 Exact Energy: [-7.86015321]\n",
      "Interatomic Distance: 2.1 VQE Result: -7.85253522692503 Exact Energy: [-7.85259583]\n",
      "Interatomic Distance: 2.2 VQE Result: -7.844839388406188 Exact Energy: [-7.84487909]\n",
      "Interatomic Distance: 2.3 VQE Result: -7.837212702363892 Exact Energy: [-7.83725797]\n",
      "Interatomic Distance: 2.4 VQE Result: -7.829853243314578 Exact Energy: [-7.829937]\n",
      "Interatomic Distance: 2.5 VQE Result: -7.8229302962433005 Exact Energy: [-7.82307664]\n",
      "Interatomic Distance: 2.6 VQE Result: -7.816588434031826 Exact Energy: [-7.81679515]\n",
      "Interatomic Distance: 2.7 VQE Result: -7.810934365327678 Exact Energy: [-7.81116828]\n",
      "Interatomic Distance: 2.8 VQE Result: -7.80601481554861 Exact Energy: [-7.80622956]\n",
      "Interatomic Distance: 2.9 VQE Result: -7.801736622467223 Exact Energy: [-7.8019736]\n",
      "Interatomic Distance: 3.0 VQE Result: -7.7980835366267875 Exact Energy: [-7.79836343]\n",
      "Interatomic Distance: 3.1 VQE Result: -7.795060165397039 Exact Energy: [-7.79534045]\n",
      "Interatomic Distance: 3.2 VQE Result: -7.7923674184798175 Exact Energy: [-7.79283481]\n",
      "Interatomic Distance: 3.3 VQE Result: -7.78968619052162 Exact Energy: [-7.79077401]\n",
      "Interatomic Distance: 3.4 VQE Result: -7.787375436905016 Exact Energy: [-7.7890889]\n",
      "Interatomic Distance: 3.5 VQE Result: -7.785627449211718 Exact Energy: [-7.78771697]\n",
      "Interatomic Distance: 3.6 VQE Result: -7.78437511861385 Exact Energy: [-7.78660376]\n",
      "Interatomic Distance: 3.7 VQE Result: -7.783495992322328 Exact Energy: [-7.78570291]\n",
      "Interatomic Distance: 3.8 VQE Result: -7.782885672711666 Exact Energy: [-7.78497559]\n",
      "Interatomic Distance: 3.9 VQE Result: -7.782466679425221 Exact Energy: [-7.78438961]\n",
      "All energies have been calculated\n"
     ]
    }
   ],
   "source": [
    "backend = BasicAer.get_backend(\"statevector_simulator\")\n",
    "\n",
    "distances = np.arange(0.5, 4.0, 0.1)\n",
    "exact_energies = []\n",
    "vqe_energies = []\n",
    "\n",
    "optimizer = SLSQP(maxiter=5)\n",
    "\n",
    "for dist in distances:\n",
    "    # Compute the qubit operator\n",
    "    qubitOp, num_particles, num_spin_orbitals, shift = get_qubit_op(dist)\n",
    "    \n",
    "    # Find the exact energies with NumPy eigensolver\n",
    "    result = NumPyEigensolver(qubitOp).run()\n",
    "    exact_energies.append(np.real(result.eigenvalues) + shift)\n",
    "    \n",
    "    initial_state = HartreeFock(num_spin_orbitals, num_particles,\n",
    "                                qubit_mapping='parity')\n",
    "    var_form = UCCSD(num_orbitals=num_spin_orbitals,\n",
    "                     num_particles=num_particles,\n",
    "                     initial_state=initial_state,\n",
    "                     qubit_mapping='parity')\n",
    "    \n",
    "    # Compute energies using VQE\n",
    "    vqe = VQE(qubitOp, var_form, optimizer)\n",
    "    vqe_result = np.real(vqe.run(backend)['eigenvalue'] + shift)\n",
    "    vqe_energies.append(vqe_result)\n",
    "    \n",
    "    print(\"Interatomic Distance:\", np.round(dist, 2), \"VQE Result:\",\n",
    "          vqe_result, \"Exact Energy:\", exact_energies[-1])\n",
    "    \n",
    "print(\"All energies have been calculated\")"
   ]
  },
  {
   "cell_type": "markdown",
   "metadata": {},
   "source": [
    "Make a plot with the results:"
   ]
  },
  {
   "cell_type": "code",
   "execution_count": 10,
   "metadata": {},
   "outputs": [
    {
     "data": {
      "image/png": "[encoded data removed]",
      "text/plain": [
       "<Figure size 432x288 with 1 Axes>"
      ]
     },
     "metadata": {},
     "output_type": "display_data"
    }
   ],
   "source": [
    "plt.plot(distances, exact_energies, label=\"Exact Energy\")\n",
    "plt.plot(distances, vqe_energies, label=\"VQE Energy\")\n",
    "plt.xlabel('Atomic distance (Angstrom)')\n",
    "plt.ylabel('Energy')\n",
    "plt.legend()\n",
    "plt.show()"
   ]
  },
  {
   "cell_type": "markdown",
   "metadata": {},
   "source": [
    "They are so close that there is no visible diffrence!"
   ]
  },
  {
   "cell_type": "markdown",
   "metadata": {},
   "source": [
    "### VQE for $H_2$ molecule with noise"
   ]
  },
  {
   "cell_type": "code",
   "execution_count": 16,
   "metadata": {},
   "outputs": [],
   "source": [
    "driver = PySCFDriver(atom='H .0 .0 -0.3625; H .0 .0 0.3625',\n",
    "                     unit=UnitsType.ANGSTROM,\n",
    "                     charge=0, spin=0, basis='sto3g')\n",
    "molecule = driver.run()\n",
    "num_particles = molecule.num_alpha + molecule.num_beta # 2\n",
    "\n",
    "qubitOp = FermionicOperator(h1=molecule.one_body_integrals,\n",
    "                            h2=molecule.two_body_integrals).mapping(map_type='parity')\n",
    "qubitOp = Z2Symmetries.two_qubit_reduction(qubitOp, num_particles)"
   ]
  },
  {
   "cell_type": "code",
   "execution_count": 25,
   "metadata": {
    "scrolled": false
   },
   "outputs": [
    {
     "name": "stderr",
     "output_type": "stream",
     "text": [
      "ibmqfactory.load_account:WARNING:2022-07-28 17:23:30,778: Credentials are already in use. The existing account in the session will be replaced.\n"
     ]
    },
    {
     "data": {
      "text/html": [
       "<pre>&lt;qiskit.providers.models.backendstatus.BackendStatus object at 0x7f1a30181198&gt;</pre><b>name</b>: ibmq_belem<br/><b>version</b>: 1.0.47, <b>pending jobs</b>: 35<br/><b>status</b>: active<br/>"
      ],
      "text/plain": [
       "<qiskit.providers.models.backendstatus.BackendStatus at 0x7f1a30181198>"
      ]
     },
     "execution_count": 25,
     "metadata": {},
     "output_type": "execute_result"
    }
   ],
   "source": [
    "IBMQ.load_account()\n",
    "provider = IBMQ.get_provider(hub='ibm-q')\n",
    "backend = Aer.get_backend(\"qasm_simulator\")\n",
    "device = least_busy(provider.backends(simulator=False, operational=True,\n",
    "                  filters=lambda x: x.configuration().n_qubits == 5))\n",
    "device.status()"
   ]
  },
  {
   "cell_type": "markdown",
   "metadata": {},
   "source": [
    "Load coupling map and noise model from the real IBM device chosen above. Create a QuantumInstance object and enable error mitigation."
   ]
  },
  {
   "cell_type": "code",
   "execution_count": 23,
   "metadata": {},
   "outputs": [],
   "source": [
    "coupling_map = device.configuration().coupling_map\n",
    "noise_model = NoiseModel.from_backend(device)\n",
    "quantum_instance = QuantumInstance(\n",
    "    backend=backend,\n",
    "    shots=8192,\n",
    "    noise_model=noise_model,\n",
    "    coupling_map=coupling_map,\n",
    "    measurement_error_mitigation_cls=CompleteMeasFitter,\n",
    "    cals_matrix_refresh_period=30)"
   ]
  },
  {
   "cell_type": "markdown",
   "metadata": {},
   "source": [
    "Compute the exact solution via NuPy eigensolver and the VQE solution:"
   ]
  },
  {
   "cell_type": "code",
   "execution_count": 24,
   "metadata": {},
   "outputs": [
    {
     "name": "stdout",
     "output_type": "stream",
     "text": [
      "Exact Result: [-1.13722138]\n",
      "VQE Result: -1.0328991920049397\n"
     ]
    }
   ],
   "source": [
    "# Find the exact solution\n",
    "exact_solution = NumPyEigensolver(qubitOp).run()\n",
    "print(\"Exact Result:\", np.real(exact_solution.eigenvalues)\n",
    "      + molecule.nuclear_repulsion_energy)\n",
    "\n",
    "# Find the solution using VQE\n",
    "optimizer = SPSA(maxiter=100) # Good for noisy simulation\n",
    "var_form = EfficientSU2(qubitOp.num_qubits, entanglement=\"linear\") # RyRz\n",
    "vqe = VQE(qubitOp, var_form, optimizer=optimizer)\n",
    "ret = vqe.run(quantum_instance)\n",
    "vqe_result = np.real(ret['eigenvalue']\n",
    "                     + molecule.nuclear_repulsion_energy)\n",
    "print(\"VQE Result:\", vqe_result)"
   ]
  }
 ],
 "metadata": {
  "kernelspec": {
   "display_name": "Python 3",
   "language": "python",
   "name": "python3"
  },
  "language_info": {
   "codemirror_mode": {
    "name": "ipython",
    "version": 3
   },
   "file_extension": ".py",
   "mimetype": "text/x-python",
   "name": "python",
   "nbconvert_exporter": "python",
   "pygments_lexer": "ipython3",
   "version": "3.6.9"
  }
 },
 "nbformat": 4,
 "nbformat_minor": 2
}
