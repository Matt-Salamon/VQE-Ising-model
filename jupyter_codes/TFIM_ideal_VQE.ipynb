{
 "cells": [
  {
   "cell_type": "markdown",
   "metadata": {
    "tags": []
   },
   "source": [
    "# Ising model using VQE"
   ]
  },
  {
   "cell_type": "markdown",
   "metadata": {
    "tags": []
   },
   "source": [
    "Import packages:"
   ]
  },
  {
   "cell_type": "code",
   "execution_count": 2,
   "metadata": {
    "tags": []
   },
   "outputs": [],
   "source": [
    "%matplotlib inline\n",
    "import numpy as np\n",
    "import matplotlib.pyplot as plt\n",
    "from functools import reduce\n",
    "\n",
    "from qiskit import Aer, assemble\n",
    "from qiskit.algorithms import VQE, VQD\n",
    "from qiskit.algorithms.optimizers import SLSQP, COBYLA, SPSA # optimizers\n",
    "from qiskit.circuit.library import EfficientSU2 # ansatz\n",
    "from qiskit.utils import QuantumInstance\n",
    "from qiskit.opflow import X, Z, I, MatrixOp # operators"
   ]
  },
  {
   "cell_type": "markdown",
   "metadata": {
    "tags": []
   },
   "source": [
    "Defining new LaTeX commands for bra and ket vectors...\n",
    "$\\newcommand{\\ket}[1]{\\left| {#1}\\right\\rangle}$\n",
    "$\\newcommand{\\bra}[1]{\\left\\langle{#1} \\right|}$"
   ]
  },
  {
   "cell_type": "markdown",
   "metadata": {
    "tags": []
   },
   "source": [
    "## Transverse field Ising model (TFIM) - setup"
   ]
  },
  {
   "cell_type": "markdown",
   "metadata": {
    "tags": []
   },
   "source": [
    "Here we try to find the ground state energy of TFIM using VQE. The TIFM is given by the Hamiltonian: $$H = -J \\sum_{<ij>} Z_i Z_j - h \\sum_i X_i.$$\n",
    "This would give us a degenerate ground state for $h = 0$ (all spins up or all spins down). To avoid this, we break degeneracy by introducing a small magnetic field in the z-direction, $h_z$, by adding to the Hamiltonian the term: $$-h_z \\sum_i Z_i.$$ We require that $h_z \\ll h$, by a few orders of magnitude."
   ]
  },
  {
   "cell_type": "markdown",
   "metadata": {
    "tags": []
   },
   "source": [
    "### Ansatz and hamiltonian"
   ]
  },
  {
   "cell_type": "markdown",
   "metadata": {},
   "source": [
    "First, we create an ansatz for our calculation from Ry, Rz and CNOT gates. The depth (number of layers) is set to 2 in order to reduce the number of parameters that need to be optimised by a classical optimiser. In this case, we have 12 free parameters."
   ]
  },
  {
   "cell_type": "code",
   "execution_count": 3,
   "metadata": {
    "scrolled": true
   },
   "outputs": [
    {
     "data": {
      "image/png": "[encoded data removed]",
      "text/plain": [
       "<Figure size 1049.8x264.88 with 1 Axes>"
      ]
     },
     "metadata": {},
     "output_type": "display_data"
    }
   ],
   "source": [
    "NUM_QUBITS = 4\n",
    "ansatz = EfficientSU2(NUM_QUBITS, entanglement='linear',\n",
    "                      insert_barriers=True, su2_gates=['ry', 'rz'], reps=2)\n",
    "display(ansatz.decompose().draw('mpl'))"
   ]
  },
  {
   "cell_type": "markdown",
   "metadata": {},
   "source": [
    "Then we choose the optimizer and the backend (here it is the Aer simulator). The number of shots is set to 1024. Then we create a quantum instance and a VQE object.\n",
    "\n",
    "NOTES ON OPTIMIZERS:\n",
    "- very low tolerance in COBYLA doesn't improve results, even can worsen them, setting a higher tolerance (0.001 to 0.0001) does not improve low-h magnetization, but can help with high-h results. Tolerance  of 0.01 is too large though. The minimum tolerance for after which there is no improvement is 0.00000001.\n",
    "- Since speed is much improved for higher tolerance, it is probably sufficient to use 0.001.\n",
    "- After lowering maxiter to 100, the results seem more chaotic. Similarly for 500. Looks good for 1000 and not improved beyond that.\n",
    "- SLSQP actually runs fast when using kwarg for tolerance 'ftol'\n",
    "\n",
    "\n",
    "SOLUTION? It seems like the solution is to set the initial point for the optimizer to be biased towards the -1 magnetization state! This is for example all zeroes, but it depends on the ansatz. But then, VQE solutions always fall into the same minimum and don't react to changes in the $h_z$.\n",
    "\n",
    "According to vqe_advanced tutorial, using include_custom=True gives the most ideal results for a simulator."
   ]
  },
  {
   "cell_type": "code",
   "execution_count": 4,
   "metadata": {},
   "outputs": [],
   "source": [
    "intermediate_info = {\"nfev\": [], \"parameters\": [], \"energy\": [], \"stddev\": []}\n",
    "def callback(nfev, parameters, energy, stddev):\n",
    "    intermediate_info[\"nfev\"].append(nfev)\n",
    "    intermediate_info[\"parameters\"].append(parameters)\n",
    "    intermediate_info[\"energy\"].append(energy)\n",
    "    intermediate_info[\"stddev\"].append(stddev)"
   ]
  },
  {
   "cell_type": "code",
   "execution_count": 5,
   "metadata": {},
   "outputs": [],
   "source": [
    "opt = SLSQP(maxiter=1000, tol=0.0000001)\n",
    "backend = Aer.get_backend('aer_simulator')\n",
    "quantum_instance = QuantumInstance(backend=backend, shots=1024)\n",
    "vqe = VQE(ansatz, optimizer=opt,\n",
    "          quantum_instance=quantum_instance, include_custom=True, callback=callback)"
   ]
  },
  {
   "cell_type": "markdown",
   "metadata": {},
   "source": [
    "Here we define the Ising Hamiltonian operator for n qubits. The $h$ and $J$ parameters correspond to the strength of transverse magnetic field and the coupling constant, respectively."
   ]
  },
  {
   "cell_type": "code",
   "execution_count": 6,
   "metadata": {
    "scrolled": true
   },
   "outputs": [],
   "source": [
    "def ising_hamiltonian(n_qubits, h, h_z=0., J=1.):\n",
    "    first_term_operators = np.full(n_qubits, I)\n",
    "    second_term_operators = np.full(n_qubits, I)\n",
    "    third_term_operators = np.full(n_qubits, I)\n",
    "    \n",
    "    first_term_operators[0] = X\n",
    "    second_term_operators[0] = Z\n",
    "    second_term_operators[1] = Z\n",
    "    third_term_operators[0] = Z\n",
    "    \n",
    "    first_term = reduce(lambda x, y: x.tensor(y), first_term_operators)\n",
    "    second_term = reduce(lambda x, y: x.tensor(y), second_term_operators)\n",
    "    third_term = reduce(lambda x, y: x.tensor(y), third_term_operators)\n",
    "    \n",
    "    for i in range(n_qubits-1):\n",
    "        first_term_operators = np.roll(first_term_operators, 1)\n",
    "        first_term += reduce(lambda x, y: x.tensor(y), first_term_operators)\n",
    "        \n",
    "        second_term_operators = np.roll(second_term_operators, 1)\n",
    "        second_term += reduce(lambda x, y: x.tensor(y), second_term_operators)\n",
    "        \n",
    "        third_term_operators = np.roll(third_term_operators, 1)\n",
    "        third_term += reduce(lambda x, y: x.tensor(y), third_term_operators)\n",
    "        \n",
    "    hamiltonian = - h * first_term - J * second_term - h_z * third_term\n",
    "\n",
    "    #Four-qubit case should look like this:\n",
    "    #hamiltonian = - (h * ((X^I^I^I) + (I^X^I^I) + (I^I^X^I) + (I^I^I^X))\n",
    "    #                + J * ((I^I^Z^Z) + (I^Z^Z^I) + (Z^Z^I^I) + (Z^I^I^Z))\n",
    "    #                + h_z * ((Z^I^I^I) + (I^Z^I^I) + (I^I^Z^I) + (I^I^I^Z)))\n",
    "    \n",
    "    return hamiltonian"
   ]
  },
  {
   "cell_type": "markdown",
   "metadata": {},
   "source": [
    "NOTES: the Ising Hamiltonian is a Hermitian matrix (good), but it is not unitary (bad?). Its determinant, depending on the fields, is in many cases equal to 0, so it is not invertible."
   ]
  },
  {
   "cell_type": "markdown",
   "metadata": {
    "tags": []
   },
   "source": [
    "### Ground state energy and eigenvector functions"
   ]
  },
  {
   "cell_type": "markdown",
   "metadata": {},
   "source": [
    "Find the exact diagonalisation using NumPy function that finds the eigenvalues and eigenvectors of a given matrix:"
   ]
  },
  {
   "cell_type": "code",
   "execution_count": 7,
   "metadata": {},
   "outputs": [],
   "source": [
    "def find_exact_solution(hamiltonian_matrix):\n",
    "    num_qubits = int(np.sqrt(hamiltonian_matrix.shape[0]))\n",
    "    e_values, e_vectors = np.linalg.eigh(hamiltonian_matrix)\n",
    "    e_values /= num_qubits\n",
    "    return e_values, e_vectors"
   ]
  },
  {
   "cell_type": "markdown",
   "metadata": {},
   "source": [
    "Compute and plot the spectrum of the Hamiltonian (for testing purposes):"
   ]
  },
  {
   "cell_type": "code",
   "execution_count": 8,
   "metadata": {},
   "outputs": [],
   "source": [
    "h_values = np.arange(-0.1, 10.1, 0.1).tolist()\n",
    "allevals = np.empty((NUM_QUBITS**2, len(h_values)))\n",
    "import csv\n",
    "with open('hamiltonian_spectrum.csv', 'w') as file:\n",
    "    #writer = csv.writer(file)\n",
    "    #writer.writerow(['% h', 'eig0', 'eig1', 'eig2', 'eig3', 'eig4', 'eig5', 'eig6', 'eig7', 'eig8', 'eig9', 'eig10', 'eig11', 'eig12', 'eig13', 'eig14', 'eig15'])\n",
    "    for i, h in enumerate(h_values):\n",
    "        hamilt = ising_hamiltonian(NUM_QUBITS, h)\n",
    "        hamilt = hamilt.to_matrix()\n",
    "        evals, evects = np.linalg.eigh(hamilt)\n",
    "        evals /= NUM_QUBITS\n",
    "        #print(\"------ h = {} ------\".format(h))\n",
    "        #print(evals)\n",
    "        allevals[:, i] = evals\n",
    "        row = evals.tolist()\n",
    "        row.insert(0, h)\n",
    "        #writer.writerow(row)"
   ]
  },
  {
   "cell_type": "code",
   "execution_count": 55,
   "metadata": {},
   "outputs": [
    {
     "name": "stderr",
     "output_type": "stream",
     "text": [
      "C:\\Users\\Mateusz\\AppData\\Local\\Temp\\ipykernel_20304\\2361610147.py:7: UserWarning: Attempted to set non-positive left xlim on a log-scaled axis.\n",
      "Invalid limit will be ignored.\n",
      "  ax.set_xlim(0, 10.1)\n"
     ]
    },
    {
     "data": {
      "image/png": "[encoded data removed]",
      "text/plain": [
       "<Figure size 864x648 with 1 Axes>"
      ]
     },
     "metadata": {
      "needs_background": "light"
     },
     "output_type": "display_data"
    }
   ],
   "source": [
    "fig, ax = plt.subplots(figsize=(12, 9))\n",
    "for i in range(NUM_QUBITS**2):\n",
    "    ax.plot(h_values, allevals[i, :], label=str(i), linewidth=2)\n",
    "ax.set_title('Eigenvalues of TFIM Hamiltonian', fontsize=20)\n",
    "ax.set_xlabel(r'Magnetic field $h$', fontsize=20)\n",
    "ax.set_xscale('log')\n",
    "ax.set_xlim(0, 10.1)\n",
    "ax.set_ylim(-10.1, 10.1)\n",
    "ax.set_ylabel('Energy', fontsize=20)\n",
    "ax.legend(bbox_to_anchor=(1.005, 1), fontsize=18, title='State', title_fontsize=18)\n",
    "ax.tick_params(length=6, width=1.8, labelsize=18)\n",
    "ax.tick_params(length=4, width=1, which='minor')\n",
    "ax.set_xticks([0.1, 1, 10], labels=[0.1, 1, 10])\n",
    "plt.show()\n",
    "plt.close()"
   ]
  },
  {
   "cell_type": "markdown",
   "metadata": {},
   "source": [
    "Notes on the spectrum:\n",
    "\n",
    "For low fields, the ground and first excited states are basically degenerate, so very hard to distinguish by VQD.\n",
    "\n",
    "For high fields, the gap between the ground and 1st excited state is large, so it is easy for VQD to differentiate between them. However, the first three excited states are all very close to each other and that is an issue for VQD, which can mix them or return in the wrong ordering."
   ]
  },
  {
   "cell_type": "markdown",
   "metadata": {},
   "source": [
    "Function to perform the VQE calculation for a given operator:"
   ]
  },
  {
   "cell_type": "code",
   "execution_count": 10,
   "metadata": {},
   "outputs": [],
   "source": [
    "def find_VQE_solution(hamiltonian_operator, vqe_instance):\n",
    "    num_qubits = hamiltonian_operator.num_qubits\n",
    "    result = vqe_instance.compute_minimum_eigenvalue(hamiltonian_operator)\n",
    "    energy = result.eigenvalue.real / num_qubits\n",
    "    opt_params = result.optimal_parameters.values()\n",
    "    return energy, opt_params"
   ]
  },
  {
   "cell_type": "markdown",
   "metadata": {},
   "source": [
    "This part tries to simulate the ansatz circuit with the optimal parameters to find the final wavefunction. We use the statevector simulator to find the final state. This will give different results after each optimization (different optimal parametrs found), but the same results each time for the same parametrs of the circuit. The counts will not work, since they would change for every simulation of the circuit (even with the same parametres)!"
   ]
  },
  {
   "cell_type": "code",
   "execution_count": 11,
   "metadata": {
    "scrolled": true
   },
   "outputs": [],
   "source": [
    "def find_final_statevector(hamiltonian_operator, opt_params, vqe_instance):\n",
    "    qc_list = vqe_instance.construct_circuit(opt_params, hamiltonian_operator)\n",
    "    if len(qc_list) > 1:\n",
    "        qc = qc_list[1]\n",
    "    else:\n",
    "        qc = qc_list[0]\n",
    "    \n",
    "    qc = qc.decompose()\n",
    "    #qc.h([0, 1, 2, 3])\n",
    "    qc.save_statevector()\n",
    "    #display(qc.draw())\n",
    "    \n",
    "    qobj = assemble(qc)\n",
    "    result = backend.run(qobj).result()\n",
    "    final_state = np.asarray(result.get_statevector())\n",
    "\n",
    "    return final_state"
   ]
  },
  {
   "cell_type": "markdown",
   "metadata": {},
   "source": [
    "The function below plots the probabilities of different basis states obtained from both VQE and exact diagonalisation, to let us compare them visually:"
   ]
  },
  {
   "cell_type": "code",
   "execution_count": 12,
   "metadata": {},
   "outputs": [],
   "source": [
    "def plot_state_probabilities(exact_state, vqe_state, h_field):\n",
    "    # Generate strings representing the computational basis states\n",
    "    basis_states = [str(bin(x)[2:]) for x in range(2**NUM_QUBITS)]\n",
    "    basis_states = [x.rjust(4, '0') for x in basis_states]\n",
    "    \n",
    "    # Create a figure and plot probabilities\n",
    "    fig, ax = plt.subplots(figsize=(6, 3))\n",
    "    x_values = np.arange(2 ** NUM_QUBITS)\n",
    "    ax.scatter(x_values, abs(exact_state)**2, label=\"Exact\", s=35)\n",
    "    ax.scatter(x_values, abs(vqe_state)**2, label=\"VQE\", s=35)\n",
    "    ax.set_ylim(-0.05, 1.05)\n",
    "    \n",
    "    # Add some information to the plot\n",
    "    ax.set_title(\"h = {0:.3f}\".format(h_field), fontsize=14)\n",
    "    ax.set_xlabel(\"Computational basis state\", fontsize=14)\n",
    "    ax.set_ylabel(\"Probability\", fontsize=14)\n",
    "    ax.set_xticks(x_values)\n",
    "    ax.set_xticklabels(basis_states, rotation=50, fontsize=12)\n",
    "    ax.legend(fontsize=12, loc='best')\n",
    "    \n",
    "    return fig"
   ]
  },
  {
   "cell_type": "markdown",
   "metadata": {
    "tags": []
   },
   "source": [
    "### Fidelity and magentisation functions"
   ]
  },
  {
   "cell_type": "markdown",
   "metadata": {},
   "source": [
    "This function computes the fidelity between VQE final state and the exact eigenstate:"
   ]
  },
  {
   "cell_type": "code",
   "execution_count": 13,
   "metadata": {},
   "outputs": [],
   "source": [
    "def fidelity(exact_state, vqe_state):\n",
    "    fidelity = np.abs(np.dot(exact_state, vqe_state))**2\n",
    "    return fidelity"
   ]
  },
  {
   "cell_type": "markdown",
   "metadata": {},
   "source": [
    "This function creates a list of fidelities given lists of exact and VQE states:"
   ]
  },
  {
   "cell_type": "code",
   "execution_count": 14,
   "metadata": {},
   "outputs": [],
   "source": [
    "def compute_fidelities(exact_eigvect_list, vqe_eigvect_list):\n",
    "    fidelity_list = []\n",
    "    for (exact_state, vqe_state) in zip(exact_eigvect_list, vqe_eigvect_list):\n",
    "        fid = fidelity(exact_state, vqe_state)\n",
    "        fidelity_list.append(fid)\n",
    "    return fidelity_list"
   ]
  },
  {
   "cell_type": "markdown",
   "metadata": {},
   "source": [
    "Here we define the magnetisation operators:"
   ]
  },
  {
   "cell_type": "code",
   "execution_count": 21,
   "metadata": {},
   "outputs": [],
   "source": [
    "def magnetisation_operator(n_qubits, axis):\n",
    "    terms = np.full(n_qubits, I)\n",
    "    if axis == 'x':\n",
    "        terms[0] = X\n",
    "    elif axis =='z':\n",
    "        terms[0] = Z\n",
    "    else:\n",
    "        print(\"Invalid argument. Axis must be 'x' or 'y'!\")\n",
    "        return None\n",
    "    \n",
    "    operator = reduce(lambda x, y: x.tensor(y), terms)\n",
    "    \n",
    "    for i in range(n_qubits-1):\n",
    "        terms = np.roll(terms, 1)\n",
    "        operator += reduce(lambda x, y: x.tensor(y), terms)\n",
    "    \n",
    "    return operator\n",
    "\n",
    "x_magnetisation_op = magnetisation_operator(NUM_QUBITS, 'x')\n",
    "z_magnetisation_op = magnetisation_operator(NUM_QUBITS, 'z')"
   ]
  },
  {
   "cell_type": "markdown",
   "metadata": {},
   "source": [
    "Now we compute the magnetisation for the exact case. Note that we return the value normalised by the number of qubits."
   ]
  },
  {
   "cell_type": "code",
   "execution_count": 16,
   "metadata": {},
   "outputs": [],
   "source": [
    "def exact_magnetisation(magnetisation_operator, eigenvector):\n",
    "    matrix = magnetisation_operator.to_matrix()\n",
    "    product = matrix.dot(eigenvector)\n",
    "    magnetisation = np.vdot(eigenvector, product).real\n",
    "    return magnetisation / NUM_QUBITS"
   ]
  },
  {
   "cell_type": "markdown",
   "metadata": {},
   "source": [
    "This is a function that prints all the important results in a nice form:"
   ]
  },
  {
   "cell_type": "code",
   "execution_count": 17,
   "metadata": {},
   "outputs": [],
   "source": [
    "def print_all_results(results):\n",
    "    np.set_printoptions(precision=3, linewidth=120)\n",
    "    \n",
    "    for (h, energy, eigvect, mag, vqe_energy, vqe_eigvect, vqe_mag, fidelity) in results:\n",
    "        print(\"\\n==================== h = {0:.3f} ====================\".format(h))\n",
    "        \n",
    "        print(\"Ground state ENERGY per qubit:\\n\\tExact: {0:.8f}\\n\\tVQE:   {1:.8f}\".format(energy, vqe_energy))\n",
    "        print(\"MAGNETISATION per qubit:\\n\\tExact: {0:.3f}\\n\\tVQE:   {1:.3f}\".format(mag, vqe_mag))\n",
    "        print(\"FIDELITY: {0:.3f}\".format(fidelity))\n",
    "        \n",
    "        print(\"\\nGround state EIGENVECTOR:\\n\\tExact: {0}\\n\\tVQE:   {1}\".format(eigvect.real, vqe_eigvect.real))\n",
    "        fig = plot_state_probabilities(eigvect, vqe_eigvect, h)\n",
    "        display(fig)\n",
    "        plt.close()\n",
    "\n",
    "    return"
   ]
  },
  {
   "cell_type": "markdown",
   "metadata": {
    "tags": []
   },
   "source": [
    "## TFIM simulation for various field strengths"
   ]
  },
  {
   "cell_type": "markdown",
   "metadata": {},
   "source": [
    "Let's define a function that does the full VQE computation for a given field strength $h$:"
   ]
  },
  {
   "cell_type": "code",
   "execution_count": 18,
   "metadata": {},
   "outputs": [],
   "source": [
    "def vqe_ising_model(vqe_instance, h_field, h_z=0.001, J=1.):\n",
    "    hamiltonian_operator = ising_hamiltonian(NUM_QUBITS, h_field, h_z=h_z, J=J)\n",
    "    \n",
    "    energy, opt_params = find_VQE_solution(hamiltonian_operator, vqe_instance)\n",
    "    final_state = find_final_statevector(hamiltonian_operator, opt_params, vqe_instance)\n",
    "    \n",
    "    magnetisation_z = vqe_instance.get_energy_evaluation(z_magnetisation_op)(list(opt_params)) / NUM_QUBITS\n",
    "    magnetisation_x = vqe_instance.get_energy_evaluation(x_magnetisation_op)(list(opt_params)) / NUM_QUBITS\n",
    "    \n",
    "    return energy, final_state, magnetisation_z, magnetisation_x"
   ]
  },
  {
   "cell_type": "markdown",
   "metadata": {},
   "source": [
    "Define a list of values of magnetic field that we want to investigate and the value of $h_z$ to break degeneracy for small $h$. However, changing $h_z$ also seems to change the position of the phase transition... but only for the exact solution! VQE calculation doesn't seem to be affected."
   ]
  },
  {
   "cell_type": "code",
   "execution_count": 22,
   "metadata": {},
   "outputs": [],
   "source": [
    "h_list = (10 ** np.linspace(-1.5, 1.5, 100)).tolist()\n",
    "#h_list.append(1.5)\n",
    "#h_list.append(1.25)\n",
    "#h_list.append(0.75)\n",
    "#h_list.append(2.0)\n",
    "#h_list.sort()\n",
    "\n",
    "NUM_QUBITS = 12\n",
    "h_bias = 0.00001"
   ]
  },
  {
   "cell_type": "markdown",
   "metadata": {
    "tags": []
   },
   "source": [
    "### Exact solution"
   ]
  },
  {
   "cell_type": "markdown",
   "metadata": {},
   "source": [
    "Here we perform the exact calculation for these field values and then plot the energy and magnetisations:"
   ]
  },
  {
   "cell_type": "code",
   "execution_count": null,
   "metadata": {
    "scrolled": true
   },
   "outputs": [
    {
     "name": "stdout",
     "output_type": "stream",
     "text": [
      "Computing for h = 0.032\n",
      "Computing for h = 0.034\n",
      "Computing for h = 0.036\n",
      "Computing for h = 0.039\n",
      "Computing for h = 0.042\n",
      "Computing for h = 0.045\n",
      "Computing for h = 0.048\n",
      "Computing for h = 0.052\n",
      "Computing for h = 0.055\n",
      "Computing for h = 0.059\n",
      "Computing for h = 0.064\n",
      "Computing for h = 0.068\n",
      "Computing for h = 0.073\n",
      "Computing for h = 0.078\n",
      "Computing for h = 0.084\n",
      "Computing for h = 0.090\n",
      "Computing for h = 0.097\n",
      "Computing for h = 0.104\n",
      "Computing for h = 0.111\n",
      "Computing for h = 0.119\n",
      "Computing for h = 0.128\n",
      "Computing for h = 0.137\n",
      "Computing for h = 0.147\n",
      "Computing for h = 0.157\n",
      "Computing for h = 0.169\n",
      "Computing for h = 0.181\n",
      "Computing for h = 0.194\n",
      "Computing for h = 0.208\n",
      "Computing for h = 0.223\n",
      "Computing for h = 0.239\n",
      "Computing for h = 0.257\n",
      "Computing for h = 0.275\n",
      "Computing for h = 0.295\n",
      "Computing for h = 0.316\n",
      "Computing for h = 0.339\n",
      "Computing for h = 0.364\n",
      "Computing for h = 0.390\n",
      "Computing for h = 0.418\n",
      "Computing for h = 0.448\n",
      "Computing for h = 0.481\n",
      "Computing for h = 0.515\n",
      "Computing for h = 0.553\n",
      "Computing for h = 0.593\n",
      "Computing for h = 0.635\n",
      "Computing for h = 0.681\n",
      "Computing for h = 0.731\n",
      "Computing for h = 0.783\n",
      "Computing for h = 0.840\n",
      "Computing for h = 0.901\n",
      "Computing for h = 0.966\n",
      "Computing for h = 1.036\n",
      "Computing for h = 1.110\n",
      "Computing for h = 1.191\n",
      "Computing for h = 1.277\n",
      "Computing for h = 1.369\n",
      "Computing for h = 1.468\n",
      "Computing for h = 1.574\n",
      "Computing for h = 1.688\n",
      "Computing for h = 1.810\n",
      "Computing for h = 1.940\n",
      "Computing for h = 2.081\n",
      "Computing for h = 2.231\n",
      "Computing for h = 2.392\n",
      "Computing for h = 2.565\n",
      "Computing for h = 2.750\n",
      "Computing for h = 2.949\n",
      "Computing for h = 3.162\n",
      "Computing for h = 3.391\n",
      "Computing for h = 3.636\n",
      "Computing for h = 3.899\n",
      "Computing for h = 4.180\n",
      "Computing for h = 4.482\n",
      "Computing for h = 4.806\n",
      "Computing for h = 5.154\n"
     ]
    }
   ],
   "source": [
    "exact_magnetisation_z_list = []\n",
    "exact_magnetisation_x_list = []\n",
    "exact_energy_list = []\n",
    "exact_eigenvector_list = []\n",
    "\n",
    "for h in h_list:\n",
    "    print(\"Computing for h = {0:.3f}\".format(h))\n",
    "    hamiltonian = ising_hamiltonian(NUM_QUBITS, h, h_z=h_bias)\n",
    "    exact_energies, exact_eigenvectors = find_exact_solution(hamiltonian.to_matrix())\n",
    "    exact_eigenvector_list.append(exact_eigenvectors[:, 0])\n",
    "    exact_energy_list.append(exact_energies[0])\n",
    "    exact_magnetisation_z_list.append(exact_magnetisation(z_magnetisation_op, exact_eigenvectors[:, 0]))\n",
    "    exact_magnetisation_x_list.append(exact_magnetisation(x_magnetisation_op, exact_eigenvectors[:, 0]))\n",
    "    \n",
    "print(\"DONE!\")"
   ]
  },
  {
   "cell_type": "code",
   "execution_count": null,
   "metadata": {
    "scrolled": true
   },
   "outputs": [],
   "source": [
    "fig, axes = plt.subplots(1, 3, figsize=(15, 5))\n",
    "axes[0].plot(h_list, exact_energy_list, c='g', linewidth=3)\n",
    "axes[0].set_title(\"Energy\", fontsize=16)\n",
    "axes[0].set_xscale('log')\n",
    "axes[0].tick_params(which='minor', length=3, width=1)\n",
    "axes[0].tick_params(length=6, width=1.5, labelsize=14)\n",
    "axes[0].set_xlabel(r'$h$', fontsize=16, loc='right', labelpad=-15)\n",
    "axes[1].plot(h_list, exact_magnetisation_z_list, c='b', linewidth=3)\n",
    "axes[1].set_title(r\"Magnetisation in $z$\", fontsize=16)\n",
    "axes[1].set_xscale('log')\n",
    "axes[1].tick_params(length=6, width=1.5, labelsize=14)\n",
    "axes[1].tick_params(which='minor', length=3, width=1)\n",
    "axes[1].set_xlabel(r'$h$', fontsize=16, loc='right', labelpad=-15)\n",
    "axes[2].plot(h_list, exact_magnetisation_x_list, c='b', linewidth=3)\n",
    "axes[2].set_title(r\"Magnetisation in $x$\", fontsize=16)\n",
    "axes[2].set_xscale('log')\n",
    "axes[2].set_xlabel(r'$h$', fontsize=16, loc='right', labelpad=-15)\n",
    "axes[2].tick_params(which='minor', length=3, width=1)\n",
    "axes[2].tick_params(length=6, width=1.5, labelsize=14)"
   ]
  },
  {
   "cell_type": "markdown",
   "metadata": {
    "tags": []
   },
   "source": [
    "### VQE solution"
   ]
  },
  {
   "cell_type": "markdown",
   "metadata": {},
   "source": [
    "Here is the loop that performs the VQE calculation for the different values of $h$:"
   ]
  },
  {
   "cell_type": "code",
   "execution_count": 64,
   "metadata": {
    "scrolled": true,
    "tags": []
   },
   "outputs": [
    {
     "name": "stdout",
     "output_type": "stream",
     "text": [
      "Computing for h = 0.032\n",
      "Computing for h = 0.100\n",
      "Computing for h = 0.316\n",
      "Computing for h = 0.750\n",
      "Computing for h = 1.000\n"
     ]
    },
    {
     "ename": "KeyboardInterrupt",
     "evalue": "",
     "output_type": "error",
     "traceback": [
      "\u001b[1;31m---------------------------------------------------------------------------\u001b[0m",
      "\u001b[1;31mKeyboardInterrupt\u001b[0m                         Traceback (most recent call last)",
      "Input \u001b[1;32mIn [64]\u001b[0m, in \u001b[0;36m<cell line: 6>\u001b[1;34m()\u001b[0m\n\u001b[0;32m      7\u001b[0m \u001b[38;5;28mprint\u001b[39m(\u001b[38;5;124m\"\u001b[39m\u001b[38;5;124mComputing for h = \u001b[39m\u001b[38;5;132;01m{0:.3f}\u001b[39;00m\u001b[38;5;124m\"\u001b[39m\u001b[38;5;241m.\u001b[39mformat(h))\n\u001b[0;32m      8\u001b[0m intermediate_info \u001b[38;5;241m=\u001b[39m {\u001b[38;5;124m\"\u001b[39m\u001b[38;5;124mnfev\u001b[39m\u001b[38;5;124m\"\u001b[39m: [], \u001b[38;5;124m\"\u001b[39m\u001b[38;5;124mparameters\u001b[39m\u001b[38;5;124m\"\u001b[39m: [], \u001b[38;5;124m\"\u001b[39m\u001b[38;5;124menergy\u001b[39m\u001b[38;5;124m\"\u001b[39m: [], \u001b[38;5;124m\"\u001b[39m\u001b[38;5;124mstddev\u001b[39m\u001b[38;5;124m\"\u001b[39m: []}\n\u001b[1;32m----> 9\u001b[0m vqe_results \u001b[38;5;241m=\u001b[39m \u001b[43mvqe_ising_model\u001b[49m\u001b[43m(\u001b[49m\u001b[43mvqe\u001b[49m\u001b[43m,\u001b[49m\u001b[43m \u001b[49m\u001b[43mh\u001b[49m\u001b[43m,\u001b[49m\u001b[43m \u001b[49m\u001b[43mh_z\u001b[49m\u001b[38;5;241;43m=\u001b[39;49m\u001b[43mh_bias\u001b[49m\u001b[43m)\u001b[49m\n\u001b[0;32m     10\u001b[0m vqe_energy_list\u001b[38;5;241m.\u001b[39mappend(vqe_results[\u001b[38;5;241m0\u001b[39m])\n\u001b[0;32m     11\u001b[0m vqe_eigenvector_list\u001b[38;5;241m.\u001b[39mappend(vqe_results[\u001b[38;5;241m1\u001b[39m])\n",
      "Input \u001b[1;32mIn [60]\u001b[0m, in \u001b[0;36mvqe_ising_model\u001b[1;34m(vqe_instance, h_field, h_z, J)\u001b[0m\n\u001b[0;32m      1\u001b[0m \u001b[38;5;28;01mdef\u001b[39;00m \u001b[38;5;21mvqe_ising_model\u001b[39m(vqe_instance, h_field, h_z\u001b[38;5;241m=\u001b[39m\u001b[38;5;241m0.001\u001b[39m, J\u001b[38;5;241m=\u001b[39m\u001b[38;5;241m1.\u001b[39m):\n\u001b[0;32m      2\u001b[0m     hamiltonian_operator \u001b[38;5;241m=\u001b[39m ising_hamiltonian(NUM_QUBITS, h_field, h_z\u001b[38;5;241m=\u001b[39mh_z, J\u001b[38;5;241m=\u001b[39mJ)\n\u001b[1;32m----> 4\u001b[0m     energy, opt_params \u001b[38;5;241m=\u001b[39m \u001b[43mfind_VQE_solution\u001b[49m\u001b[43m(\u001b[49m\u001b[43mhamiltonian_operator\u001b[49m\u001b[43m,\u001b[49m\u001b[43m \u001b[49m\u001b[43mvqe_instance\u001b[49m\u001b[43m)\u001b[49m\n\u001b[0;32m      5\u001b[0m     final_state \u001b[38;5;241m=\u001b[39m find_final_statevector(hamiltonian_operator, opt_params, vqe_instance)\n\u001b[0;32m      7\u001b[0m     magnetisation_z \u001b[38;5;241m=\u001b[39m vqe_instance\u001b[38;5;241m.\u001b[39mget_energy_evaluation(z_magnetisation_op)(\u001b[38;5;28mlist\u001b[39m(opt_params)) \u001b[38;5;241m/\u001b[39m NUM_QUBITS\n",
      "Input \u001b[1;32mIn [52]\u001b[0m, in \u001b[0;36mfind_VQE_solution\u001b[1;34m(hamiltonian_operator, vqe_instance)\u001b[0m\n\u001b[0;32m      1\u001b[0m \u001b[38;5;28;01mdef\u001b[39;00m \u001b[38;5;21mfind_VQE_solution\u001b[39m(hamiltonian_operator, vqe_instance):\n\u001b[0;32m      2\u001b[0m     num_qubits \u001b[38;5;241m=\u001b[39m hamiltonian_operator\u001b[38;5;241m.\u001b[39mnum_qubits\n\u001b[1;32m----> 3\u001b[0m     result \u001b[38;5;241m=\u001b[39m \u001b[43mvqe_instance\u001b[49m\u001b[38;5;241;43m.\u001b[39;49m\u001b[43mcompute_minimum_eigenvalue\u001b[49m\u001b[43m(\u001b[49m\u001b[43mhamiltonian_operator\u001b[49m\u001b[43m)\u001b[49m\n\u001b[0;32m      4\u001b[0m     energy \u001b[38;5;241m=\u001b[39m result\u001b[38;5;241m.\u001b[39meigenvalue\u001b[38;5;241m.\u001b[39mreal \u001b[38;5;241m/\u001b[39m num_qubits\n\u001b[0;32m      5\u001b[0m     opt_params \u001b[38;5;241m=\u001b[39m result\u001b[38;5;241m.\u001b[39moptimal_parameters\u001b[38;5;241m.\u001b[39mvalues()\n",
      "File \u001b[1;32mD:\\Programy\\anaconda3\\envs\\qiskit_env\\lib\\site-packages\\qiskit\\algorithms\\minimum_eigen_solvers\\vqe.py:530\u001b[0m, in \u001b[0;36mVQE.compute_minimum_eigenvalue\u001b[1;34m(self, operator, aux_operators)\u001b[0m\n\u001b[0;32m    526\u001b[0m     opt_result \u001b[38;5;241m=\u001b[39m \u001b[38;5;28mself\u001b[39m\u001b[38;5;241m.\u001b[39moptimizer(  \u001b[38;5;66;03m# pylint: disable=not-callable\u001b[39;00m\n\u001b[0;32m    527\u001b[0m         fun\u001b[38;5;241m=\u001b[39menergy_evaluation, x0\u001b[38;5;241m=\u001b[39minitial_point, jac\u001b[38;5;241m=\u001b[39mgradient, bounds\u001b[38;5;241m=\u001b[39mbounds\n\u001b[0;32m    528\u001b[0m     )\n\u001b[0;32m    529\u001b[0m \u001b[38;5;28;01melse\u001b[39;00m:\n\u001b[1;32m--> 530\u001b[0m     opt_result \u001b[38;5;241m=\u001b[39m \u001b[38;5;28;43mself\u001b[39;49m\u001b[38;5;241;43m.\u001b[39;49m\u001b[43moptimizer\u001b[49m\u001b[38;5;241;43m.\u001b[39;49m\u001b[43mminimize\u001b[49m\u001b[43m(\u001b[49m\n\u001b[0;32m    531\u001b[0m \u001b[43m        \u001b[49m\u001b[43mfun\u001b[49m\u001b[38;5;241;43m=\u001b[39;49m\u001b[43menergy_evaluation\u001b[49m\u001b[43m,\u001b[49m\u001b[43m \u001b[49m\u001b[43mx0\u001b[49m\u001b[38;5;241;43m=\u001b[39;49m\u001b[43minitial_point\u001b[49m\u001b[43m,\u001b[49m\u001b[43m \u001b[49m\u001b[43mjac\u001b[49m\u001b[38;5;241;43m=\u001b[39;49m\u001b[43mgradient\u001b[49m\u001b[43m,\u001b[49m\u001b[43m \u001b[49m\u001b[43mbounds\u001b[49m\u001b[38;5;241;43m=\u001b[39;49m\u001b[43mbounds\u001b[49m\n\u001b[0;32m    532\u001b[0m \u001b[43m    \u001b[49m\u001b[43m)\u001b[49m\n\u001b[0;32m    534\u001b[0m eval_time \u001b[38;5;241m=\u001b[39m time() \u001b[38;5;241m-\u001b[39m start_time\n\u001b[0;32m    536\u001b[0m result \u001b[38;5;241m=\u001b[39m VQEResult()\n",
      "File \u001b[1;32mD:\\Programy\\anaconda3\\envs\\qiskit_env\\lib\\site-packages\\qiskit\\algorithms\\optimizers\\scipy_optimizer.py:141\u001b[0m, in \u001b[0;36mSciPyOptimizer.minimize\u001b[1;34m(self, fun, x0, jac, bounds)\u001b[0m\n\u001b[0;32m    138\u001b[0m \u001b[38;5;28;01mif\u001b[39;00m jac \u001b[38;5;129;01mis\u001b[39;00m \u001b[38;5;129;01mnot\u001b[39;00m \u001b[38;5;28;01mNone\u001b[39;00m \u001b[38;5;129;01mand\u001b[39;00m \u001b[38;5;28mself\u001b[39m\u001b[38;5;241m.\u001b[39m_method \u001b[38;5;241m==\u001b[39m \u001b[38;5;124m\"\u001b[39m\u001b[38;5;124ml-bfgs-b\u001b[39m\u001b[38;5;124m\"\u001b[39m:\n\u001b[0;32m    139\u001b[0m     jac \u001b[38;5;241m=\u001b[39m \u001b[38;5;28mself\u001b[39m\u001b[38;5;241m.\u001b[39m_wrap_gradient(jac)\n\u001b[1;32m--> 141\u001b[0m raw_result \u001b[38;5;241m=\u001b[39m minimize(\n\u001b[0;32m    142\u001b[0m     fun\u001b[38;5;241m=\u001b[39mfun,\n\u001b[0;32m    143\u001b[0m     x0\u001b[38;5;241m=\u001b[39mx0,\n\u001b[0;32m    144\u001b[0m     method\u001b[38;5;241m=\u001b[39m\u001b[38;5;28mself\u001b[39m\u001b[38;5;241m.\u001b[39m_method,\n\u001b[0;32m    145\u001b[0m     jac\u001b[38;5;241m=\u001b[39mjac,\n\u001b[0;32m    146\u001b[0m     bounds\u001b[38;5;241m=\u001b[39mbounds,\n\u001b[0;32m    147\u001b[0m     options\u001b[38;5;241m=\u001b[39m\u001b[38;5;28mself\u001b[39m\u001b[38;5;241m.\u001b[39m_options,\n\u001b[0;32m    148\u001b[0m     \u001b[38;5;241m*\u001b[39m\u001b[38;5;241m*\u001b[39m\u001b[38;5;28mself\u001b[39m\u001b[38;5;241m.\u001b[39m_kwargs,\n\u001b[0;32m    149\u001b[0m )\n\u001b[0;32m    150\u001b[0m result \u001b[38;5;241m=\u001b[39m OptimizerResult()\n\u001b[0;32m    151\u001b[0m result\u001b[38;5;241m.\u001b[39mx \u001b[38;5;241m=\u001b[39m raw_result\u001b[38;5;241m.\u001b[39mx\n",
      "File \u001b[1;32mD:\\Programy\\anaconda3\\envs\\qiskit_env\\lib\\site-packages\\scipy\\optimize\\_minimize.py:708\u001b[0m, in \u001b[0;36mminimize\u001b[1;34m(fun, x0, args, method, jac, hess, hessp, bounds, constraints, tol, callback, options)\u001b[0m\n\u001b[0;32m    705\u001b[0m     res \u001b[38;5;241m=\u001b[39m _minimize_cobyla(fun, x0, args, constraints, callback\u001b[38;5;241m=\u001b[39mcallback,\n\u001b[0;32m    706\u001b[0m                             \u001b[38;5;241m*\u001b[39m\u001b[38;5;241m*\u001b[39moptions)\n\u001b[0;32m    707\u001b[0m \u001b[38;5;28;01melif\u001b[39;00m meth \u001b[38;5;241m==\u001b[39m \u001b[38;5;124m'\u001b[39m\u001b[38;5;124mslsqp\u001b[39m\u001b[38;5;124m'\u001b[39m:\n\u001b[1;32m--> 708\u001b[0m     res \u001b[38;5;241m=\u001b[39m _minimize_slsqp(fun, x0, args, jac, bounds,\n\u001b[0;32m    709\u001b[0m                           constraints, callback\u001b[38;5;241m=\u001b[39mcallback, \u001b[38;5;241m*\u001b[39m\u001b[38;5;241m*\u001b[39moptions)\n\u001b[0;32m    710\u001b[0m \u001b[38;5;28;01melif\u001b[39;00m meth \u001b[38;5;241m==\u001b[39m \u001b[38;5;124m'\u001b[39m\u001b[38;5;124mtrust-constr\u001b[39m\u001b[38;5;124m'\u001b[39m:\n\u001b[0;32m    711\u001b[0m     res \u001b[38;5;241m=\u001b[39m _minimize_trustregion_constr(fun, x0, args, jac, hess, hessp,\n\u001b[0;32m    712\u001b[0m                                        bounds, constraints,\n\u001b[0;32m    713\u001b[0m                                        callback\u001b[38;5;241m=\u001b[39mcallback, \u001b[38;5;241m*\u001b[39m\u001b[38;5;241m*\u001b[39moptions)\n",
      "File \u001b[1;32mD:\\Programy\\anaconda3\\envs\\qiskit_env\\lib\\site-packages\\scipy\\optimize\\_slsqp_py.py:432\u001b[0m, in \u001b[0;36m_minimize_slsqp\u001b[1;34m(func, x0, args, jac, bounds, constraints, maxiter, ftol, iprint, disp, eps, callback, finite_diff_rel_step, **unknown_options)\u001b[0m\n\u001b[0;32m    429\u001b[0m     c \u001b[38;5;241m=\u001b[39m _eval_constraint(x, cons)\n\u001b[0;32m    431\u001b[0m \u001b[38;5;28;01mif\u001b[39;00m mode \u001b[38;5;241m==\u001b[39m \u001b[38;5;241m-\u001b[39m\u001b[38;5;241m1\u001b[39m:  \u001b[38;5;66;03m# gradient evaluation required\u001b[39;00m\n\u001b[1;32m--> 432\u001b[0m     g \u001b[38;5;241m=\u001b[39m append(\u001b[43mwrapped_grad\u001b[49m\u001b[43m(\u001b[49m\u001b[43mx\u001b[49m\u001b[43m)\u001b[49m, \u001b[38;5;241m0.0\u001b[39m)\n\u001b[0;32m    433\u001b[0m     a \u001b[38;5;241m=\u001b[39m _eval_con_normals(x, cons, la, n, m, meq, mieq)\n\u001b[0;32m    435\u001b[0m \u001b[38;5;28;01mif\u001b[39;00m majiter \u001b[38;5;241m>\u001b[39m majiter_prev:\n\u001b[0;32m    436\u001b[0m     \u001b[38;5;66;03m# call callback if major iteration has incremented\u001b[39;00m\n",
      "File \u001b[1;32mD:\\Programy\\anaconda3\\envs\\qiskit_env\\lib\\site-packages\\scipy\\optimize\\_optimize.py:277\u001b[0m, in \u001b[0;36m_clip_x_for_func.<locals>.eval\u001b[1;34m(x)\u001b[0m\n\u001b[0;32m    275\u001b[0m \u001b[38;5;28;01mdef\u001b[39;00m \u001b[38;5;21meval\u001b[39m(x):\n\u001b[0;32m    276\u001b[0m     x \u001b[38;5;241m=\u001b[39m _check_clip_x(x, bounds)\n\u001b[1;32m--> 277\u001b[0m     \u001b[38;5;28;01mreturn\u001b[39;00m \u001b[43mfunc\u001b[49m\u001b[43m(\u001b[49m\u001b[43mx\u001b[49m\u001b[43m)\u001b[49m\n",
      "File \u001b[1;32mD:\\Programy\\anaconda3\\envs\\qiskit_env\\lib\\site-packages\\scipy\\optimize\\_differentiable_functions.py:273\u001b[0m, in \u001b[0;36mScalarFunction.grad\u001b[1;34m(self, x)\u001b[0m\n\u001b[0;32m    271\u001b[0m \u001b[38;5;28;01mif\u001b[39;00m \u001b[38;5;129;01mnot\u001b[39;00m np\u001b[38;5;241m.\u001b[39marray_equal(x, \u001b[38;5;28mself\u001b[39m\u001b[38;5;241m.\u001b[39mx):\n\u001b[0;32m    272\u001b[0m     \u001b[38;5;28mself\u001b[39m\u001b[38;5;241m.\u001b[39m_update_x_impl(x)\n\u001b[1;32m--> 273\u001b[0m \u001b[38;5;28;43mself\u001b[39;49m\u001b[38;5;241;43m.\u001b[39;49m\u001b[43m_update_grad\u001b[49m\u001b[43m(\u001b[49m\u001b[43m)\u001b[49m\n\u001b[0;32m    274\u001b[0m \u001b[38;5;28;01mreturn\u001b[39;00m \u001b[38;5;28mself\u001b[39m\u001b[38;5;241m.\u001b[39mg\n",
      "File \u001b[1;32mD:\\Programy\\anaconda3\\envs\\qiskit_env\\lib\\site-packages\\scipy\\optimize\\_differentiable_functions.py:256\u001b[0m, in \u001b[0;36mScalarFunction._update_grad\u001b[1;34m(self)\u001b[0m\n\u001b[0;32m    254\u001b[0m \u001b[38;5;28;01mdef\u001b[39;00m \u001b[38;5;21m_update_grad\u001b[39m(\u001b[38;5;28mself\u001b[39m):\n\u001b[0;32m    255\u001b[0m     \u001b[38;5;28;01mif\u001b[39;00m \u001b[38;5;129;01mnot\u001b[39;00m \u001b[38;5;28mself\u001b[39m\u001b[38;5;241m.\u001b[39mg_updated:\n\u001b[1;32m--> 256\u001b[0m         \u001b[38;5;28;43mself\u001b[39;49m\u001b[38;5;241;43m.\u001b[39;49m\u001b[43m_update_grad_impl\u001b[49m\u001b[43m(\u001b[49m\u001b[43m)\u001b[49m\n\u001b[0;32m    257\u001b[0m         \u001b[38;5;28mself\u001b[39m\u001b[38;5;241m.\u001b[39mg_updated \u001b[38;5;241m=\u001b[39m \u001b[38;5;28;01mTrue\u001b[39;00m\n",
      "File \u001b[1;32mD:\\Programy\\anaconda3\\envs\\qiskit_env\\lib\\site-packages\\scipy\\optimize\\_differentiable_functions.py:173\u001b[0m, in \u001b[0;36mScalarFunction.__init__.<locals>.update_grad\u001b[1;34m()\u001b[0m\n\u001b[0;32m    171\u001b[0m \u001b[38;5;28mself\u001b[39m\u001b[38;5;241m.\u001b[39m_update_fun()\n\u001b[0;32m    172\u001b[0m \u001b[38;5;28mself\u001b[39m\u001b[38;5;241m.\u001b[39mngev \u001b[38;5;241m+\u001b[39m\u001b[38;5;241m=\u001b[39m \u001b[38;5;241m1\u001b[39m\n\u001b[1;32m--> 173\u001b[0m \u001b[38;5;28mself\u001b[39m\u001b[38;5;241m.\u001b[39mg \u001b[38;5;241m=\u001b[39m approx_derivative(fun_wrapped, \u001b[38;5;28mself\u001b[39m\u001b[38;5;241m.\u001b[39mx, f0\u001b[38;5;241m=\u001b[39m\u001b[38;5;28mself\u001b[39m\u001b[38;5;241m.\u001b[39mf,\n\u001b[0;32m    174\u001b[0m                            \u001b[38;5;241m*\u001b[39m\u001b[38;5;241m*\u001b[39mfinite_diff_options)\n",
      "File \u001b[1;32mD:\\Programy\\anaconda3\\envs\\qiskit_env\\lib\\site-packages\\scipy\\optimize\\_numdiff.py:505\u001b[0m, in \u001b[0;36mapprox_derivative\u001b[1;34m(fun, x0, method, rel_step, abs_step, f0, bounds, sparsity, as_linear_operator, args, kwargs)\u001b[0m\n\u001b[0;32m    502\u001b[0m     use_one_sided \u001b[38;5;241m=\u001b[39m \u001b[38;5;28;01mFalse\u001b[39;00m\n\u001b[0;32m    504\u001b[0m \u001b[38;5;28;01mif\u001b[39;00m sparsity \u001b[38;5;129;01mis\u001b[39;00m \u001b[38;5;28;01mNone\u001b[39;00m:\n\u001b[1;32m--> 505\u001b[0m     \u001b[38;5;28;01mreturn\u001b[39;00m \u001b[43m_dense_difference\u001b[49m\u001b[43m(\u001b[49m\u001b[43mfun_wrapped\u001b[49m\u001b[43m,\u001b[49m\u001b[43m \u001b[49m\u001b[43mx0\u001b[49m\u001b[43m,\u001b[49m\u001b[43m \u001b[49m\u001b[43mf0\u001b[49m\u001b[43m,\u001b[49m\u001b[43m \u001b[49m\u001b[43mh\u001b[49m\u001b[43m,\u001b[49m\n\u001b[0;32m    506\u001b[0m \u001b[43m                             \u001b[49m\u001b[43muse_one_sided\u001b[49m\u001b[43m,\u001b[49m\u001b[43m \u001b[49m\u001b[43mmethod\u001b[49m\u001b[43m)\u001b[49m\n\u001b[0;32m    507\u001b[0m \u001b[38;5;28;01melse\u001b[39;00m:\n\u001b[0;32m    508\u001b[0m     \u001b[38;5;28;01mif\u001b[39;00m \u001b[38;5;129;01mnot\u001b[39;00m issparse(sparsity) \u001b[38;5;129;01mand\u001b[39;00m \u001b[38;5;28mlen\u001b[39m(sparsity) \u001b[38;5;241m==\u001b[39m \u001b[38;5;241m2\u001b[39m:\n",
      "File \u001b[1;32mD:\\Programy\\anaconda3\\envs\\qiskit_env\\lib\\site-packages\\scipy\\optimize\\_numdiff.py:576\u001b[0m, in \u001b[0;36m_dense_difference\u001b[1;34m(fun, x0, f0, h, use_one_sided, method)\u001b[0m\n\u001b[0;32m    574\u001b[0m     x \u001b[38;5;241m=\u001b[39m x0 \u001b[38;5;241m+\u001b[39m h_vecs[i]\n\u001b[0;32m    575\u001b[0m     dx \u001b[38;5;241m=\u001b[39m x[i] \u001b[38;5;241m-\u001b[39m x0[i]  \u001b[38;5;66;03m# Recompute dx as exactly representable number.\u001b[39;00m\n\u001b[1;32m--> 576\u001b[0m     df \u001b[38;5;241m=\u001b[39m \u001b[43mfun\u001b[49m\u001b[43m(\u001b[49m\u001b[43mx\u001b[49m\u001b[43m)\u001b[49m \u001b[38;5;241m-\u001b[39m f0\n\u001b[0;32m    577\u001b[0m \u001b[38;5;28;01melif\u001b[39;00m method \u001b[38;5;241m==\u001b[39m \u001b[38;5;124m'\u001b[39m\u001b[38;5;124m3-point\u001b[39m\u001b[38;5;124m'\u001b[39m \u001b[38;5;129;01mand\u001b[39;00m use_one_sided[i]:\n\u001b[0;32m    578\u001b[0m     x1 \u001b[38;5;241m=\u001b[39m x0 \u001b[38;5;241m+\u001b[39m h_vecs[i]\n",
      "File \u001b[1;32mD:\\Programy\\anaconda3\\envs\\qiskit_env\\lib\\site-packages\\scipy\\optimize\\_numdiff.py:456\u001b[0m, in \u001b[0;36mapprox_derivative.<locals>.fun_wrapped\u001b[1;34m(x)\u001b[0m\n\u001b[0;32m    455\u001b[0m \u001b[38;5;28;01mdef\u001b[39;00m \u001b[38;5;21mfun_wrapped\u001b[39m(x):\n\u001b[1;32m--> 456\u001b[0m     f \u001b[38;5;241m=\u001b[39m np\u001b[38;5;241m.\u001b[39matleast_1d(fun(x, \u001b[38;5;241m*\u001b[39margs, \u001b[38;5;241m*\u001b[39m\u001b[38;5;241m*\u001b[39mkwargs))\n\u001b[0;32m    457\u001b[0m     \u001b[38;5;28;01mif\u001b[39;00m f\u001b[38;5;241m.\u001b[39mndim \u001b[38;5;241m>\u001b[39m \u001b[38;5;241m1\u001b[39m:\n\u001b[0;32m    458\u001b[0m         \u001b[38;5;28;01mraise\u001b[39;00m \u001b[38;5;167;01mRuntimeError\u001b[39;00m(\u001b[38;5;124m\"\u001b[39m\u001b[38;5;124m`fun` return value has \u001b[39m\u001b[38;5;124m\"\u001b[39m\n\u001b[0;32m    459\u001b[0m                            \u001b[38;5;124m\"\u001b[39m\u001b[38;5;124mmore than 1 dimension.\u001b[39m\u001b[38;5;124m\"\u001b[39m)\n",
      "File \u001b[1;32mD:\\Programy\\anaconda3\\envs\\qiskit_env\\lib\\site-packages\\scipy\\optimize\\_differentiable_functions.py:137\u001b[0m, in \u001b[0;36mScalarFunction.__init__.<locals>.fun_wrapped\u001b[1;34m(x)\u001b[0m\n\u001b[0;32m    133\u001b[0m \u001b[38;5;28mself\u001b[39m\u001b[38;5;241m.\u001b[39mnfev \u001b[38;5;241m+\u001b[39m\u001b[38;5;241m=\u001b[39m \u001b[38;5;241m1\u001b[39m\n\u001b[0;32m    134\u001b[0m \u001b[38;5;66;03m# Send a copy because the user may overwrite it.\u001b[39;00m\n\u001b[0;32m    135\u001b[0m \u001b[38;5;66;03m# Overwriting results in undefined behaviour because\u001b[39;00m\n\u001b[0;32m    136\u001b[0m \u001b[38;5;66;03m# fun(self.x) will change self.x, with the two no longer linked.\u001b[39;00m\n\u001b[1;32m--> 137\u001b[0m fx \u001b[38;5;241m=\u001b[39m \u001b[43mfun\u001b[49m\u001b[43m(\u001b[49m\u001b[43mnp\u001b[49m\u001b[38;5;241;43m.\u001b[39;49m\u001b[43mcopy\u001b[49m\u001b[43m(\u001b[49m\u001b[43mx\u001b[49m\u001b[43m)\u001b[49m\u001b[43m,\u001b[49m\u001b[43m \u001b[49m\u001b[38;5;241;43m*\u001b[39;49m\u001b[43margs\u001b[49m\u001b[43m)\u001b[49m\n\u001b[0;32m    138\u001b[0m \u001b[38;5;66;03m# Make sure the function returns a true scalar\u001b[39;00m\n\u001b[0;32m    139\u001b[0m \u001b[38;5;28;01mif\u001b[39;00m \u001b[38;5;129;01mnot\u001b[39;00m np\u001b[38;5;241m.\u001b[39misscalar(fx):\n",
      "File \u001b[1;32mD:\\Programy\\anaconda3\\envs\\qiskit_env\\lib\\site-packages\\qiskit\\algorithms\\minimum_eigen_solvers\\vqe.py:604\u001b[0m, in \u001b[0;36mVQE.get_energy_evaluation.<locals>.energy_evaluation\u001b[1;34m(parameters)\u001b[0m\n\u001b[0;32m    601\u001b[0m param_bindings \u001b[38;5;241m=\u001b[39m \u001b[38;5;28mdict\u001b[39m(\u001b[38;5;28mzip\u001b[39m(ansatz_params, parameter_sets\u001b[38;5;241m.\u001b[39mtranspose()\u001b[38;5;241m.\u001b[39mtolist()))\n\u001b[0;32m    603\u001b[0m start_time \u001b[38;5;241m=\u001b[39m time()\n\u001b[1;32m--> 604\u001b[0m sampled_expect_op \u001b[38;5;241m=\u001b[39m \u001b[38;5;28;43mself\u001b[39;49m\u001b[38;5;241;43m.\u001b[39;49m\u001b[43m_circuit_sampler\u001b[49m\u001b[38;5;241;43m.\u001b[39;49m\u001b[43mconvert\u001b[49m\u001b[43m(\u001b[49m\u001b[43mexpect_op\u001b[49m\u001b[43m,\u001b[49m\u001b[43m \u001b[49m\u001b[43mparams\u001b[49m\u001b[38;5;241;43m=\u001b[39;49m\u001b[43mparam_bindings\u001b[49m\u001b[43m)\u001b[49m\n\u001b[0;32m    605\u001b[0m means \u001b[38;5;241m=\u001b[39m np\u001b[38;5;241m.\u001b[39mreal(sampled_expect_op\u001b[38;5;241m.\u001b[39meval())\n\u001b[0;32m    607\u001b[0m \u001b[38;5;28;01mif\u001b[39;00m \u001b[38;5;28mself\u001b[39m\u001b[38;5;241m.\u001b[39m_callback \u001b[38;5;129;01mis\u001b[39;00m \u001b[38;5;129;01mnot\u001b[39;00m \u001b[38;5;28;01mNone\u001b[39;00m:\n",
      "File \u001b[1;32mD:\\Programy\\anaconda3\\envs\\qiskit_env\\lib\\site-packages\\qiskit\\opflow\\converters\\circuit_sampler.py:216\u001b[0m, in \u001b[0;36mCircuitSampler.convert\u001b[1;34m(self, operator, params)\u001b[0m\n\u001b[0;32m    214\u001b[0m circs \u001b[38;5;241m=\u001b[39m \u001b[38;5;28mlist\u001b[39m(\u001b[38;5;28mself\u001b[39m\u001b[38;5;241m.\u001b[39m_circuit_ops_cache\u001b[38;5;241m.\u001b[39mvalues()) \u001b[38;5;28;01mif\u001b[39;00m \u001b[38;5;129;01mnot\u001b[39;00m \u001b[38;5;28mself\u001b[39m\u001b[38;5;241m.\u001b[39m_transpiled_circ_cache \u001b[38;5;28;01melse\u001b[39;00m \u001b[38;5;28;01mNone\u001b[39;00m\n\u001b[0;32m    215\u001b[0m p_b \u001b[38;5;241m=\u001b[39m cast(List[Dict[Parameter, \u001b[38;5;28mfloat\u001b[39m]], param_bindings)\n\u001b[1;32m--> 216\u001b[0m sampled_statefn_dicts \u001b[38;5;241m=\u001b[39m \u001b[38;5;28;43mself\u001b[39;49m\u001b[38;5;241;43m.\u001b[39;49m\u001b[43msample_circuits\u001b[49m\u001b[43m(\u001b[49m\u001b[43mcircuit_sfns\u001b[49m\u001b[38;5;241;43m=\u001b[39;49m\u001b[43mcircs\u001b[49m\u001b[43m,\u001b[49m\u001b[43m \u001b[49m\u001b[43mparam_bindings\u001b[49m\u001b[38;5;241;43m=\u001b[39;49m\u001b[43mp_b\u001b[49m\u001b[43m)\u001b[49m\n\u001b[0;32m    218\u001b[0m \u001b[38;5;28;01mdef\u001b[39;00m \u001b[38;5;21mreplace_circuits_with_dicts\u001b[39m(operator, param_index\u001b[38;5;241m=\u001b[39m\u001b[38;5;241m0\u001b[39m):\n\u001b[0;32m    219\u001b[0m     \u001b[38;5;28;01mif\u001b[39;00m \u001b[38;5;28misinstance\u001b[39m(operator, CircuitStateFn):\n",
      "File \u001b[1;32mD:\\Programy\\anaconda3\\envs\\qiskit_env\\lib\\site-packages\\qiskit\\opflow\\converters\\circuit_sampler.py:335\u001b[0m, in \u001b[0;36mCircuitSampler.sample_circuits\u001b[1;34m(self, circuit_sfns, param_bindings)\u001b[0m\n\u001b[0;32m    330\u001b[0m \u001b[38;5;28;01mif\u001b[39;00m \u001b[38;5;28mself\u001b[39m\u001b[38;5;241m.\u001b[39m_transpile_before_bind \u001b[38;5;129;01mand\u001b[39;00m \u001b[38;5;28mself\u001b[39m\u001b[38;5;241m.\u001b[39mquantum_instance\u001b[38;5;241m.\u001b[39mbound_pass_manager \u001b[38;5;129;01mis\u001b[39;00m \u001b[38;5;129;01mnot\u001b[39;00m \u001b[38;5;28;01mNone\u001b[39;00m:\n\u001b[0;32m    331\u001b[0m     ready_circs \u001b[38;5;241m=\u001b[39m \u001b[38;5;28mself\u001b[39m\u001b[38;5;241m.\u001b[39mquantum_instance\u001b[38;5;241m.\u001b[39mtranspile(\n\u001b[0;32m    332\u001b[0m         ready_circs, pass_manager\u001b[38;5;241m=\u001b[39m\u001b[38;5;28mself\u001b[39m\u001b[38;5;241m.\u001b[39mquantum_instance\u001b[38;5;241m.\u001b[39mbound_pass_manager\n\u001b[0;32m    333\u001b[0m     )\n\u001b[1;32m--> 335\u001b[0m results \u001b[38;5;241m=\u001b[39m \u001b[38;5;28;43mself\u001b[39;49m\u001b[38;5;241;43m.\u001b[39;49m\u001b[43mquantum_instance\u001b[49m\u001b[38;5;241;43m.\u001b[39;49m\u001b[43mexecute\u001b[49m\u001b[43m(\u001b[49m\n\u001b[0;32m    336\u001b[0m \u001b[43m    \u001b[49m\u001b[43mready_circs\u001b[49m\u001b[43m,\u001b[49m\u001b[43m \u001b[49m\u001b[43mhad_transpiled\u001b[49m\u001b[38;5;241;43m=\u001b[39;49m\u001b[38;5;28;43mself\u001b[39;49m\u001b[38;5;241;43m.\u001b[39;49m\u001b[43m_transpile_before_bind\u001b[49m\n\u001b[0;32m    337\u001b[0m \u001b[43m\u001b[49m\u001b[43m)\u001b[49m\n\u001b[0;32m    339\u001b[0m \u001b[38;5;28;01mif\u001b[39;00m param_bindings \u001b[38;5;129;01mis\u001b[39;00m \u001b[38;5;129;01mnot\u001b[39;00m \u001b[38;5;28;01mNone\u001b[39;00m \u001b[38;5;129;01mand\u001b[39;00m \u001b[38;5;28mself\u001b[39m\u001b[38;5;241m.\u001b[39m_param_qobj:\n\u001b[0;32m    340\u001b[0m     \u001b[38;5;28mself\u001b[39m\u001b[38;5;241m.\u001b[39m_clean_parameterized_run_config()\n",
      "File \u001b[1;32mD:\\Programy\\anaconda3\\envs\\qiskit_env\\lib\\site-packages\\qiskit\\utils\\quantum_instance.py:708\u001b[0m, in \u001b[0;36mQuantumInstance.execute\u001b[1;34m(self, circuits, had_transpiled)\u001b[0m\n\u001b[0;32m    705\u001b[0m                 result\u001b[38;5;241m.\u001b[39mresults[n] \u001b[38;5;241m=\u001b[39m tmp_result\u001b[38;5;241m.\u001b[39mresults[i]\n\u001b[0;32m    707\u001b[0m \u001b[38;5;28;01melse\u001b[39;00m:\n\u001b[1;32m--> 708\u001b[0m     result \u001b[38;5;241m=\u001b[39m \u001b[43mrun_circuits\u001b[49m\u001b[43m(\u001b[49m\n\u001b[0;32m    709\u001b[0m \u001b[43m        \u001b[49m\u001b[43mcircuits\u001b[49m\u001b[43m,\u001b[49m\n\u001b[0;32m    710\u001b[0m \u001b[43m        \u001b[49m\u001b[38;5;28;43mself\u001b[39;49m\u001b[38;5;241;43m.\u001b[39;49m\u001b[43m_backend\u001b[49m\u001b[43m,\u001b[49m\n\u001b[0;32m    711\u001b[0m \u001b[43m        \u001b[49m\u001b[43mqjob_config\u001b[49m\u001b[38;5;241;43m=\u001b[39;49m\u001b[38;5;28;43mself\u001b[39;49m\u001b[38;5;241;43m.\u001b[39;49m\u001b[43mqjob_config\u001b[49m\u001b[43m,\u001b[49m\n\u001b[0;32m    712\u001b[0m \u001b[43m        \u001b[49m\u001b[43mbackend_options\u001b[49m\u001b[38;5;241;43m=\u001b[39;49m\u001b[38;5;28;43mself\u001b[39;49m\u001b[38;5;241;43m.\u001b[39;49m\u001b[43mbackend_options\u001b[49m\u001b[43m,\u001b[49m\n\u001b[0;32m    713\u001b[0m \u001b[43m        \u001b[49m\u001b[43mnoise_config\u001b[49m\u001b[38;5;241;43m=\u001b[39;49m\u001b[38;5;28;43mself\u001b[39;49m\u001b[38;5;241;43m.\u001b[39;49m\u001b[43m_noise_config\u001b[49m\u001b[43m,\u001b[49m\n\u001b[0;32m    714\u001b[0m \u001b[43m        \u001b[49m\u001b[43mrun_config\u001b[49m\u001b[38;5;241;43m=\u001b[39;49m\u001b[38;5;28;43mself\u001b[39;49m\u001b[38;5;241;43m.\u001b[39;49m\u001b[43m_run_config\u001b[49m\u001b[38;5;241;43m.\u001b[39;49m\u001b[43mto_dict\u001b[49m\u001b[43m(\u001b[49m\u001b[43m)\u001b[49m\u001b[43m,\u001b[49m\n\u001b[0;32m    715\u001b[0m \u001b[43m        \u001b[49m\u001b[43mjob_callback\u001b[49m\u001b[38;5;241;43m=\u001b[39;49m\u001b[38;5;28;43mself\u001b[39;49m\u001b[38;5;241;43m.\u001b[39;49m\u001b[43m_job_callback\u001b[49m\u001b[43m,\u001b[49m\n\u001b[0;32m    716\u001b[0m \u001b[43m        \u001b[49m\u001b[43mmax_job_retries\u001b[49m\u001b[38;5;241;43m=\u001b[39;49m\u001b[38;5;28;43mself\u001b[39;49m\u001b[38;5;241;43m.\u001b[39;49m\u001b[43m_max_job_retries\u001b[49m\u001b[43m,\u001b[49m\n\u001b[0;32m    717\u001b[0m \u001b[43m    \u001b[49m\u001b[43m)\u001b[49m\n\u001b[0;32m    718\u001b[0m     \u001b[38;5;28mself\u001b[39m\u001b[38;5;241m.\u001b[39m_time_taken \u001b[38;5;241m+\u001b[39m\u001b[38;5;241m=\u001b[39m result\u001b[38;5;241m.\u001b[39mtime_taken\n\u001b[0;32m    720\u001b[0m \u001b[38;5;28;01mif\u001b[39;00m \u001b[38;5;28mself\u001b[39m\u001b[38;5;241m.\u001b[39m_circuit_summary:\n",
      "File \u001b[1;32mD:\\Programy\\anaconda3\\envs\\qiskit_env\\lib\\site-packages\\qiskit\\utils\\run_circuits.py:183\u001b[0m, in \u001b[0;36mrun_circuits\u001b[1;34m(circuits, backend, qjob_config, backend_options, noise_config, run_config, job_callback, max_job_retries)\u001b[0m\n\u001b[0;32m    181\u001b[0m         count \u001b[38;5;241m+\u001b[39m\u001b[38;5;241m=\u001b[39m max_circuits_per_job\n\u001b[0;32m    182\u001b[0m \u001b[38;5;28;01melse\u001b[39;00m:\n\u001b[1;32m--> 183\u001b[0m     job, job_id \u001b[38;5;241m=\u001b[39m \u001b[43m_safe_submit_circuits\u001b[49m\u001b[43m(\u001b[49m\n\u001b[0;32m    184\u001b[0m \u001b[43m        \u001b[49m\u001b[43mcircuits\u001b[49m\u001b[43m,\u001b[49m\n\u001b[0;32m    185\u001b[0m \u001b[43m        \u001b[49m\u001b[43mbackend\u001b[49m\u001b[43m,\u001b[49m\n\u001b[0;32m    186\u001b[0m \u001b[43m        \u001b[49m\u001b[43mqjob_config\u001b[49m\u001b[38;5;241;43m=\u001b[39;49m\u001b[43mqjob_config\u001b[49m\u001b[43m,\u001b[49m\n\u001b[0;32m    187\u001b[0m \u001b[43m        \u001b[49m\u001b[43mbackend_options\u001b[49m\u001b[38;5;241;43m=\u001b[39;49m\u001b[43mbackend_options\u001b[49m\u001b[43m,\u001b[49m\n\u001b[0;32m    188\u001b[0m \u001b[43m        \u001b[49m\u001b[43mnoise_config\u001b[49m\u001b[38;5;241;43m=\u001b[39;49m\u001b[43mnoise_config\u001b[49m\u001b[43m,\u001b[49m\n\u001b[0;32m    189\u001b[0m \u001b[43m        \u001b[49m\u001b[43mrun_config\u001b[49m\u001b[38;5;241;43m=\u001b[39;49m\u001b[43mrun_config\u001b[49m\u001b[43m,\u001b[49m\n\u001b[0;32m    190\u001b[0m \u001b[43m        \u001b[49m\u001b[43mmax_job_retries\u001b[49m\u001b[38;5;241;43m=\u001b[39;49m\u001b[43mmax_job_retries\u001b[49m\u001b[43m,\u001b[49m\n\u001b[0;32m    191\u001b[0m \u001b[43m    \u001b[49m\u001b[43m)\u001b[49m\n\u001b[0;32m    192\u001b[0m     jobs \u001b[38;5;241m=\u001b[39m [job]\n\u001b[0;32m    193\u001b[0m     job_ids \u001b[38;5;241m=\u001b[39m [job_id]\n",
      "File \u001b[1;32mD:\\Programy\\anaconda3\\envs\\qiskit_env\\lib\\site-packages\\qiskit\\utils\\run_circuits.py:318\u001b[0m, in \u001b[0;36m_safe_submit_circuits\u001b[1;34m(circuits, backend, qjob_config, backend_options, noise_config, run_config, max_job_retries)\u001b[0m\n\u001b[0;32m    316\u001b[0m \u001b[38;5;28;01mfor\u001b[39;00m _ \u001b[38;5;129;01min\u001b[39;00m \u001b[38;5;28mrange\u001b[39m(max_job_retries):\n\u001b[0;32m    317\u001b[0m     \u001b[38;5;28;01mtry\u001b[39;00m:\n\u001b[1;32m--> 318\u001b[0m         job \u001b[38;5;241m=\u001b[39m \u001b[43m_run_circuits_on_backend\u001b[49m\u001b[43m(\u001b[49m\n\u001b[0;32m    319\u001b[0m \u001b[43m            \u001b[49m\u001b[43mbackend\u001b[49m\u001b[43m,\u001b[49m\n\u001b[0;32m    320\u001b[0m \u001b[43m            \u001b[49m\u001b[43mcircuits\u001b[49m\u001b[43m,\u001b[49m\n\u001b[0;32m    321\u001b[0m \u001b[43m            \u001b[49m\u001b[43mbackend_options\u001b[49m\u001b[38;5;241;43m=\u001b[39;49m\u001b[43mbackend_options\u001b[49m\u001b[43m,\u001b[49m\n\u001b[0;32m    322\u001b[0m \u001b[43m            \u001b[49m\u001b[43mnoise_config\u001b[49m\u001b[38;5;241;43m=\u001b[39;49m\u001b[43mnoise_config\u001b[49m\u001b[43m,\u001b[49m\n\u001b[0;32m    323\u001b[0m \u001b[43m            \u001b[49m\u001b[43mrun_config\u001b[49m\u001b[38;5;241;43m=\u001b[39;49m\u001b[43mrun_config\u001b[49m\u001b[43m,\u001b[49m\n\u001b[0;32m    324\u001b[0m \u001b[43m        \u001b[49m\u001b[43m)\u001b[49m\n\u001b[0;32m    325\u001b[0m         job_id \u001b[38;5;241m=\u001b[39m job\u001b[38;5;241m.\u001b[39mjob_id()\n\u001b[0;32m    326\u001b[0m         \u001b[38;5;28;01mbreak\u001b[39;00m\n",
      "File \u001b[1;32mD:\\Programy\\anaconda3\\envs\\qiskit_env\\lib\\site-packages\\qiskit\\utils\\run_circuits.py:403\u001b[0m, in \u001b[0;36m_run_circuits_on_backend\u001b[1;34m(backend, circuits, backend_options, noise_config, run_config)\u001b[0m\n\u001b[0;32m    400\u001b[0m         \u001b[38;5;28;01mif\u001b[39;00m \u001b[38;5;129;01mnot\u001b[39;00m \u001b[38;5;28mhasattr\u001b[39m(backend\u001b[38;5;241m.\u001b[39moptions, key):\n\u001b[0;32m    401\u001b[0m             \u001b[38;5;28;01mdel\u001b[39;00m run_kwargs[key]\n\u001b[1;32m--> 403\u001b[0m \u001b[38;5;28;01mreturn\u001b[39;00m backend\u001b[38;5;241m.\u001b[39mrun(circuits, \u001b[38;5;241m*\u001b[39m\u001b[38;5;241m*\u001b[39mrun_kwargs)\n",
      "File \u001b[1;32mD:\\Programy\\anaconda3\\envs\\qiskit_env\\lib\\site-packages\\qiskit\\utils\\deprecation.py:27\u001b[0m, in \u001b[0;36mdeprecate_arguments.<locals>.decorator.<locals>.wrapper\u001b[1;34m(*args, **kwargs)\u001b[0m\n\u001b[0;32m     25\u001b[0m \u001b[38;5;28;01mif\u001b[39;00m kwargs:\n\u001b[0;32m     26\u001b[0m     _rename_kwargs(func\u001b[38;5;241m.\u001b[39m\u001b[38;5;18m__name__\u001b[39m, kwargs, kwarg_map)\n\u001b[1;32m---> 27\u001b[0m \u001b[38;5;28;01mreturn\u001b[39;00m func(\u001b[38;5;241m*\u001b[39margs, \u001b[38;5;241m*\u001b[39m\u001b[38;5;241m*\u001b[39mkwargs)\n",
      "File \u001b[1;32mD:\\Programy\\anaconda3\\envs\\qiskit_env\\lib\\site-packages\\qiskit\\providers\\aer\\backends\\aerbackend.py:187\u001b[0m, in \u001b[0;36mAerBackend.run\u001b[1;34m(self, circuits, validate, parameter_binds, **run_options)\u001b[0m\n\u001b[0;32m    185\u001b[0m     qobj \u001b[38;5;241m=\u001b[39m \u001b[38;5;28mself\u001b[39m\u001b[38;5;241m.\u001b[39m_assemble(circuits, \u001b[38;5;241m*\u001b[39m\u001b[38;5;241m*\u001b[39mrun_options)\n\u001b[0;32m    186\u001b[0m \u001b[38;5;28;01melse\u001b[39;00m:\n\u001b[1;32m--> 187\u001b[0m     qobj \u001b[38;5;241m=\u001b[39m \u001b[38;5;28mself\u001b[39m\u001b[38;5;241m.\u001b[39m_assemble(circuits, parameter_binds\u001b[38;5;241m=\u001b[39mparameter_binds, \u001b[38;5;241m*\u001b[39m\u001b[38;5;241m*\u001b[39mrun_options)\n\u001b[0;32m    189\u001b[0m \u001b[38;5;66;03m# Optional validation\u001b[39;00m\n\u001b[0;32m    190\u001b[0m \u001b[38;5;28;01mif\u001b[39;00m validate:\n",
      "File \u001b[1;32mD:\\Programy\\anaconda3\\envs\\qiskit_env\\lib\\site-packages\\qiskit\\providers\\aer\\backends\\aerbackend.py:396\u001b[0m, in \u001b[0;36mAerBackend._assemble\u001b[1;34m(self, circuits, parameter_binds, **run_options)\u001b[0m\n\u001b[0;32m    390\u001b[0m     qobj \u001b[38;5;241m=\u001b[39m assemble(\n\u001b[0;32m    391\u001b[0m         circuits,\n\u001b[0;32m    392\u001b[0m         backend\u001b[38;5;241m=\u001b[39m\u001b[38;5;28mself\u001b[39m,\n\u001b[0;32m    393\u001b[0m         parameter_binds\u001b[38;5;241m=\u001b[39massemble_binds,\n\u001b[0;32m    394\u001b[0m         parameterizations\u001b[38;5;241m=\u001b[39mparameterizations)\n\u001b[0;32m    395\u001b[0m \u001b[38;5;28;01melse\u001b[39;00m:\n\u001b[1;32m--> 396\u001b[0m     qobj \u001b[38;5;241m=\u001b[39m \u001b[43massemble\u001b[49m\u001b[43m(\u001b[49m\u001b[43mcircuits\u001b[49m\u001b[43m,\u001b[49m\u001b[43m \u001b[49m\u001b[43mbackend\u001b[49m\u001b[38;5;241;43m=\u001b[39;49m\u001b[38;5;28;43mself\u001b[39;49m\u001b[43m)\u001b[49m\n\u001b[0;32m    398\u001b[0m \u001b[38;5;66;03m# Add optypes to qobj\u001b[39;00m\n\u001b[0;32m    399\u001b[0m \u001b[38;5;66;03m# We convert to strings to avoid pybinding of types\u001b[39;00m\n\u001b[0;32m    400\u001b[0m qobj\u001b[38;5;241m.\u001b[39mconfig\u001b[38;5;241m.\u001b[39moptypes \u001b[38;5;241m=\u001b[39m [\n\u001b[0;32m    401\u001b[0m     \u001b[38;5;28mset\u001b[39m(i\u001b[38;5;241m.\u001b[39m\u001b[38;5;18m__name__\u001b[39m \u001b[38;5;28;01mfor\u001b[39;00m i \u001b[38;5;129;01min\u001b[39;00m optype) \u001b[38;5;28;01mif\u001b[39;00m optype \u001b[38;5;28;01melse\u001b[39;00m \u001b[38;5;28mset\u001b[39m()\n\u001b[0;32m    402\u001b[0m     \u001b[38;5;28;01mfor\u001b[39;00m optype \u001b[38;5;129;01min\u001b[39;00m optypes]\n",
      "File \u001b[1;32mD:\\Programy\\anaconda3\\envs\\qiskit_env\\lib\\site-packages\\qiskit\\compiler\\assembler.py:209\u001b[0m, in \u001b[0;36massemble\u001b[1;34m(experiments, backend, qobj_id, qobj_header, shots, memory, max_credits, seed_simulator, qubit_lo_freq, meas_lo_freq, qubit_lo_range, meas_lo_range, schedule_los, meas_level, meas_return, meas_map, memory_slot_size, rep_time, rep_delay, parameter_binds, parametric_pulses, init_qubits, **run_config)\u001b[0m\n\u001b[0;32m    207\u001b[0m     end_time \u001b[38;5;241m=\u001b[39m time()\n\u001b[0;32m    208\u001b[0m     _log_assembly_time(start_time, end_time)\n\u001b[1;32m--> 209\u001b[0m     \u001b[38;5;28;01mreturn\u001b[39;00m \u001b[43massemble_circuits\u001b[49m\u001b[43m(\u001b[49m\n\u001b[0;32m    210\u001b[0m \u001b[43m        \u001b[49m\u001b[43mcircuits\u001b[49m\u001b[38;5;241;43m=\u001b[39;49m\u001b[43mbound_experiments\u001b[49m\u001b[43m,\u001b[49m\n\u001b[0;32m    211\u001b[0m \u001b[43m        \u001b[49m\u001b[43mqobj_id\u001b[49m\u001b[38;5;241;43m=\u001b[39;49m\u001b[43mqobj_id\u001b[49m\u001b[43m,\u001b[49m\n\u001b[0;32m    212\u001b[0m \u001b[43m        \u001b[49m\u001b[43mqobj_header\u001b[49m\u001b[38;5;241;43m=\u001b[39;49m\u001b[43mqobj_header\u001b[49m\u001b[43m,\u001b[49m\n\u001b[0;32m    213\u001b[0m \u001b[43m        \u001b[49m\u001b[43mrun_config\u001b[49m\u001b[38;5;241;43m=\u001b[39;49m\u001b[43mrun_config\u001b[49m\u001b[43m,\u001b[49m\n\u001b[0;32m    214\u001b[0m \u001b[43m    \u001b[49m\u001b[43m)\u001b[49m\n\u001b[0;32m    216\u001b[0m \u001b[38;5;28;01melif\u001b[39;00m \u001b[38;5;28mall\u001b[39m(\u001b[38;5;28misinstance\u001b[39m(exp, (ScheduleBlock, Schedule, Instruction)) \u001b[38;5;28;01mfor\u001b[39;00m exp \u001b[38;5;129;01min\u001b[39;00m experiments):\n\u001b[0;32m    217\u001b[0m     run_config \u001b[38;5;241m=\u001b[39m _parse_pulse_args(\n\u001b[0;32m    218\u001b[0m         backend,\n\u001b[0;32m    219\u001b[0m         meas_level,\n\u001b[1;32m   (...)\u001b[0m\n\u001b[0;32m    225\u001b[0m         \u001b[38;5;241m*\u001b[39m\u001b[38;5;241m*\u001b[39mrun_config_common_dict,\n\u001b[0;32m    226\u001b[0m     )\n",
      "File \u001b[1;32mD:\\Programy\\anaconda3\\envs\\qiskit_env\\lib\\site-packages\\qiskit\\assembler\\assemble_circuits.py:315\u001b[0m, in \u001b[0;36massemble_circuits\u001b[1;34m(circuits, run_config, qobj_id, qobj_header)\u001b[0m\n\u001b[0;32m    303\u001b[0m \u001b[38;5;124;03m\"\"\"Assembles a list of circuits into a qobj that can be run on the backend.\u001b[39;00m\n\u001b[0;32m    304\u001b[0m \n\u001b[0;32m    305\u001b[0m \u001b[38;5;124;03mArgs:\u001b[39;00m\n\u001b[1;32m   (...)\u001b[0m\n\u001b[0;32m    312\u001b[0m \u001b[38;5;124;03m    The qobj to be run on the backends\u001b[39;00m\n\u001b[0;32m    313\u001b[0m \u001b[38;5;124;03m\"\"\"\u001b[39;00m\n\u001b[0;32m    314\u001b[0m \u001b[38;5;66;03m# assemble the circuit experiments\u001b[39;00m\n\u001b[1;32m--> 315\u001b[0m experiments_and_pulse_libs \u001b[38;5;241m=\u001b[39m \u001b[43mparallel_map\u001b[49m\u001b[43m(\u001b[49m\u001b[43m_assemble_circuit\u001b[49m\u001b[43m,\u001b[49m\u001b[43m \u001b[49m\u001b[43mcircuits\u001b[49m\u001b[43m,\u001b[49m\u001b[43m \u001b[49m\u001b[43m[\u001b[49m\u001b[43mrun_config\u001b[49m\u001b[43m]\u001b[49m\u001b[43m)\u001b[49m\n\u001b[0;32m    316\u001b[0m experiments \u001b[38;5;241m=\u001b[39m []\n\u001b[0;32m    317\u001b[0m pulse_library \u001b[38;5;241m=\u001b[39m {}\n",
      "File \u001b[1;32mD:\\Programy\\anaconda3\\envs\\qiskit_env\\lib\\site-packages\\qiskit\\tools\\parallel.py:144\u001b[0m, in \u001b[0;36mparallel_map\u001b[1;34m(task, values, task_args, task_kwargs, num_processes)\u001b[0m\n\u001b[0;32m    142\u001b[0m     \u001b[38;5;28;01mreturn\u001b[39;00m []\n\u001b[0;32m    143\u001b[0m \u001b[38;5;28;01mif\u001b[39;00m \u001b[38;5;28mlen\u001b[39m(values) \u001b[38;5;241m==\u001b[39m \u001b[38;5;241m1\u001b[39m:\n\u001b[1;32m--> 144\u001b[0m     \u001b[38;5;28;01mreturn\u001b[39;00m [task(values[\u001b[38;5;241m0\u001b[39m], \u001b[38;5;241m*\u001b[39mtask_args, \u001b[38;5;241m*\u001b[39m\u001b[38;5;241m*\u001b[39mtask_kwargs)]\n\u001b[0;32m    146\u001b[0m Publisher()\u001b[38;5;241m.\u001b[39mpublish(\u001b[38;5;124m\"\u001b[39m\u001b[38;5;124mterra.parallel.start\u001b[39m\u001b[38;5;124m\"\u001b[39m, \u001b[38;5;28mlen\u001b[39m(values))\n\u001b[0;32m    147\u001b[0m nfinished \u001b[38;5;241m=\u001b[39m [\u001b[38;5;241m0\u001b[39m]\n",
      "File \u001b[1;32mD:\\Programy\\anaconda3\\envs\\qiskit_env\\lib\\site-packages\\qiskit\\assembler\\assemble_circuits.py:125\u001b[0m, in \u001b[0;36m_assemble_circuit\u001b[1;34m(circuit, run_config)\u001b[0m\n\u001b[0;32m    123\u001b[0m cargs \u001b[38;5;241m=\u001b[39m op_context\u001b[38;5;241m.\u001b[39mclbits\n\u001b[0;32m    124\u001b[0m \u001b[38;5;28;01mif\u001b[39;00m qargs:\n\u001b[1;32m--> 125\u001b[0m     instruction\u001b[38;5;241m.\u001b[39mqubits \u001b[38;5;241m=\u001b[39m [qubit_indices[qubit] \u001b[38;5;28;01mfor\u001b[39;00m qubit \u001b[38;5;129;01min\u001b[39;00m qargs]\n\u001b[0;32m    126\u001b[0m \u001b[38;5;28;01mif\u001b[39;00m cargs:\n\u001b[0;32m    127\u001b[0m     instruction\u001b[38;5;241m.\u001b[39mmemory \u001b[38;5;241m=\u001b[39m [clbit_indices[clbit] \u001b[38;5;28;01mfor\u001b[39;00m clbit \u001b[38;5;129;01min\u001b[39;00m cargs]\n",
      "File \u001b[1;32mD:\\Programy\\anaconda3\\envs\\qiskit_env\\lib\\site-packages\\qiskit\\assembler\\assemble_circuits.py:125\u001b[0m, in \u001b[0;36m<listcomp>\u001b[1;34m(.0)\u001b[0m\n\u001b[0;32m    123\u001b[0m cargs \u001b[38;5;241m=\u001b[39m op_context\u001b[38;5;241m.\u001b[39mclbits\n\u001b[0;32m    124\u001b[0m \u001b[38;5;28;01mif\u001b[39;00m qargs:\n\u001b[1;32m--> 125\u001b[0m     instruction\u001b[38;5;241m.\u001b[39mqubits \u001b[38;5;241m=\u001b[39m [\u001b[43mqubit_indices\u001b[49m\u001b[43m[\u001b[49m\u001b[43mqubit\u001b[49m\u001b[43m]\u001b[49m \u001b[38;5;28;01mfor\u001b[39;00m qubit \u001b[38;5;129;01min\u001b[39;00m qargs]\n\u001b[0;32m    126\u001b[0m \u001b[38;5;28;01mif\u001b[39;00m cargs:\n\u001b[0;32m    127\u001b[0m     instruction\u001b[38;5;241m.\u001b[39mmemory \u001b[38;5;241m=\u001b[39m [clbit_indices[clbit] \u001b[38;5;28;01mfor\u001b[39;00m clbit \u001b[38;5;129;01min\u001b[39;00m cargs]\n",
      "File \u001b[1;32mD:\\Programy\\anaconda3\\envs\\qiskit_env\\lib\\site-packages\\qiskit\\circuit\\bit.py:94\u001b[0m, in \u001b[0;36mBit.__hash__\u001b[1;34m(self)\u001b[0m\n\u001b[0;32m     91\u001b[0m         \u001b[38;5;28;01mreturn\u001b[39;00m \u001b[38;5;28mobject\u001b[39m\u001b[38;5;241m.\u001b[39m\u001b[38;5;21m__repr__\u001b[39m(\u001b[38;5;28mself\u001b[39m)\n\u001b[0;32m     92\u001b[0m     \u001b[38;5;28;01mreturn\u001b[39;00m \u001b[38;5;28mself\u001b[39m\u001b[38;5;241m.\u001b[39m_repr\n\u001b[1;32m---> 94\u001b[0m \u001b[38;5;28;01mdef\u001b[39;00m \u001b[38;5;21m__hash__\u001b[39m(\u001b[38;5;28mself\u001b[39m):\n\u001b[0;32m     95\u001b[0m     \u001b[38;5;28;01mreturn\u001b[39;00m \u001b[38;5;28mself\u001b[39m\u001b[38;5;241m.\u001b[39m_hash\n\u001b[0;32m     97\u001b[0m \u001b[38;5;28;01mdef\u001b[39;00m \u001b[38;5;21m__eq__\u001b[39m(\u001b[38;5;28mself\u001b[39m, other):\n",
      "\u001b[1;31mKeyboardInterrupt\u001b[0m: "
     ]
    }
   ],
   "source": [
    "vqe_magnetisation_z_list = []\n",
    "vqe_magnetisation_x_list = []\n",
    "vqe_energy_list = []\n",
    "vqe_eigenvector_list = []\n",
    "\n",
    "for h in h_list:\n",
    "    print(\"Computing for h = {0:.3f}\".format(h))\n",
    "    intermediate_info = {\"nfev\": [], \"parameters\": [], \"energy\": [], \"stddev\": []}\n",
    "    vqe_results = vqe_ising_model(vqe, h, h_z=h_bias)\n",
    "    vqe_energy_list.append(vqe_results[0])\n",
    "    vqe_eigenvector_list.append(vqe_results[1])\n",
    "    vqe_magnetisation_z_list.append(vqe_results[2])\n",
    "    vqe_magnetisation_x_list.append(vqe_results[3])\n",
    "    \n",
    "print(\"DONE!\")"
   ]
  },
  {
   "cell_type": "markdown",
   "metadata": {},
   "source": [
    "Here we compute fidelities and print all the results nicely:"
   ]
  },
  {
   "cell_type": "code",
   "execution_count": null,
   "metadata": {
    "scrolled": true,
    "tags": []
   },
   "outputs": [],
   "source": [
    "fidelity_list = compute_fidelities(exact_eigenvector_list, vqe_eigenvector_list)\n",
    "results_list = zip(h_list, exact_energy_list, exact_eigenvector_list, exact_magnetisation_z_list,\n",
    "                   vqe_energy_list, vqe_eigenvector_list, vqe_magnetisation_z_list, fidelity_list)\n",
    "print_all_results(results_list)"
   ]
  },
  {
   "cell_type": "markdown",
   "metadata": {},
   "source": [
    "Finally, we plot the data obtained from VQE, together with the exact values. Fidelity plots are repeated below each of the other plots to help identify less reliable data points."
   ]
  },
  {
   "cell_type": "code",
   "execution_count": null,
   "metadata": {
    "scrolled": true,
    "tags": []
   },
   "outputs": [],
   "source": [
    "# Energy plot\n",
    "fig_energy, ax_energy = plt.subplots(figsize=(6, 4))\n",
    "\n",
    "ax_energy.tick_params(axis='both', which='major', labelsize=14, size=8)\n",
    "ax_energy.scatter(h_list, vqe_energy_list, s=40, c='g', label='VQE')\n",
    "ax_energy.plot(h_list, exact_energy_list, c='g', alpha=0.7, label='Exact')\n",
    "ax_energy.set_title(\"Ground state energy vs $h$\", fontsize=16)\n",
    "ax_energy.set_xscale('log')\n",
    "ax_energy.grid(True)\n",
    "ax_energy.set_xticks([0.1, 1, 10])\n",
    "ax_energy.set_xticklabels([0.1, 1, 10])\n",
    "ax_energy.legend(loc='best', fontsize=12);\n",
    "\n",
    "# Energy error plot\n",
    "fig_energy_diff, ax_energy_diff = plt.subplots(figsize=(6, 4))\n",
    "\n",
    "energy_error_list = 100 * np.abs((np.array(vqe_energy_list) - np.array(exact_energy_list)) / np.array(exact_energy_list))\n",
    "ax_energy_diff.tick_params(axis='both', which='major', labelsize=14, size=8)\n",
    "ax_energy_diff.scatter(h_list, energy_error_list, s=40, c='g', label='VQE')\n",
    "ax_energy_diff.set_title(\"Energy error in % vs $h$\", fontsize=16)\n",
    "ax_energy_diff.set_xscale('log')\n",
    "ax_energy_diff.grid(True)\n",
    "ax_energy_diff.set_xticks([0.1, 1, 10])\n",
    "ax_energy_diff.set_xticklabels([0.1, 1, 10]);\n",
    "\n",
    "# Magnetisation in z plot\n",
    "fig_magz, ax_magz = plt.subplots(figsize=(6, 4))\n",
    "\n",
    "ax_magz.tick_params(axis='both', which='major', labelsize=14, size=8)\n",
    "ax_magz.scatter(h_list, vqe_magnetisation_z_list, s=40, c='b', label='VQE')\n",
    "ax_magz.plot(h_list, exact_magnetisation_z_list, c='b', alpha=0.7, label='Exact')\n",
    "ax_magz.set_title(\"Magnetisation in $z$-direction vs $h$\", fontsize=16)\n",
    "ax_magz.set_xscale('log')\n",
    "ax_magz.grid(True)\n",
    "ax_magz.set_xticks([0.1, 1, 10])\n",
    "ax_magz.set_xticklabels([0.1, 1, 10])\n",
    "ax_magz.legend(loc='best', fontsize=12);\n",
    "\n",
    "\n",
    "# Magnetisation in x plot\n",
    "fig_magx, ax_magx = plt.subplots(figsize=(6, 4))\n",
    "\n",
    "ax_magx.tick_params(axis='both', which='major', labelsize=14, size=8)\n",
    "ax_magx.scatter(h_list, vqe_magnetisation_x_list, s=40, c='b', label='VQE')\n",
    "ax_magx.plot(h_list, exact_magnetisation_x_list, c='b', alpha=0.7, label='Exact')\n",
    "ax_magx.set_title(\"Magnetisation in $x$-direction vs $h$\", fontsize=16)\n",
    "ax_magx.set_xscale('log')\n",
    "ax_magx.grid(True)\n",
    "ax_magx.set_xticks([0.1, 1, 10])\n",
    "ax_magx.set_xticklabels([0.1, 1, 10])\n",
    "ax_magx.legend(loc='best', fontsize=12);\n",
    "\n",
    "# Fidelity plot\n",
    "fig_fidel, ax_fidel = plt.subplots(figsize=(6, 4))\n",
    "\n",
    "ax_fidel.tick_params(axis='both', which='major', labelsize=14, size=8)\n",
    "ax_fidel.scatter(h_list, fidelity_list, s=40, c='k')\n",
    "ax_fidel.set_title(\"State fidelity vs $h$\", fontsize=16)\n",
    "ax_fidel.set_xscale('log')\n",
    "ax_fidel.grid(True)\n",
    "ax_fidel.set_xticks([0.1, 1, 10])\n",
    "ax_fidel.set_xticklabels([0.1, 1, 10]);"
   ]
  },
  {
   "cell_type": "code",
   "execution_count": null,
   "metadata": {},
   "outputs": [],
   "source": [
    "#fig_energy.savefig(\"energy_3.png\")\n",
    "#fig_energy_diff.savefig(\"energy_diff_3.png\")\n",
    "#fig_magz.savefig(\"mag_z_3.png\")\n",
    "#fig_magx.savefig(\"mag_x_3.png\")\n",
    "#fig_fidel.savefig(\"fidelity_3.png\")"
   ]
  },
  {
   "cell_type": "markdown",
   "metadata": {},
   "source": [
    "Using the SLSQP optimizer with very small ftol and maxiter=1000, we can lower the bias to about 0.25, but only sometimes. This is also possible thanks to including Rz gates in the ansatz. COBYLA has problems with more parameters (using Rz gates)."
   ]
  },
  {
   "cell_type": "markdown",
   "metadata": {
    "tags": []
   },
   "source": [
    "## Excited states - VQD"
   ]
  },
  {
   "cell_type": "markdown",
   "metadata": {
    "tags": []
   },
   "source": [
    "### Setup and exact solution"
   ]
  },
  {
   "cell_type": "markdown",
   "metadata": {},
   "source": [
    "The Variational Quantum Deflation algorithm allows us to find excited states after we have found the ground state. It is simple to implement - we just need to modify our Hamiltonian by adding a penalty term and repeat the VQE calculation. The new hamiltonian is $$H_1 = H + \\beta \\ket{\\psi(\\theta_0^*)} \\bra{\\psi(\\theta_0^*)},$$ where $\\psi(\\theta_0^*)$ is the approximate ground state wavefunction, found previously using VQE and $H$ is the original Hamiltonian."
   ]
  },
  {
   "cell_type": "markdown",
   "metadata": {},
   "source": [
    "First, we choose $h = 1$, since for very low $h$, the gap is very small. We do not use any bias, so that $h_z = 0$. Actually, if we use $h_z = 0.001$, then we still get precision of at least 3 decimal places on the exact result, so we should be safe to apply a small bias, but not much more (certainly not 0.1). If we use a high value for transverse magnetic field $h$, then the applied bias magnetic field doesn't mattter anyway, so can be set equivalently to 0. Then, we define the Hamiltonian $H$."
   ]
  },
  {
   "cell_type": "code",
   "execution_count": 25,
   "metadata": {},
   "outputs": [],
   "source": [
    "h_field = 10.0\n",
    "h_bias = 0.001\n",
    "hamiltonian_0 = ising_hamiltonian(NUM_QUBITS, h_field, h_z=h_bias)"
   ]
  },
  {
   "cell_type": "markdown",
   "metadata": {},
   "source": [
    "We start by finding the exact eigenvalues and eigenvectors. We need them for comparison and to estimate the gap between the ground and first excited states."
   ]
  },
  {
   "cell_type": "code",
   "execution_count": 26,
   "metadata": {},
   "outputs": [],
   "source": [
    "exact_energies, exact_eigenvectors = find_exact_solution(hamiltonian_0.to_matrix())\n",
    "exact_magnetisation_z_0 = exact_magnetisation(z_magnetisation_op, exact_eigenvectors[:, 0])\n",
    "exact_magnetisation_x_0 = exact_magnetisation(x_magnetisation_op, exact_eigenvectors[:, 0])\n",
    "exact_magnetisation_z_1 = exact_magnetisation(z_magnetisation_op, exact_eigenvectors[:, 1])\n",
    "exact_magnetisation_x_1 = exact_magnetisation(x_magnetisation_op, exact_eigenvectors[:, 1])\n",
    "exact_magnetisation_z_2 = exact_magnetisation(z_magnetisation_op, exact_eigenvectors[:, 2])\n",
    "exact_magnetisation_x_2 = exact_magnetisation(x_magnetisation_op, exact_eigenvectors[:, 2])"
   ]
  },
  {
   "cell_type": "code",
   "execution_count": 27,
   "metadata": {},
   "outputs": [
    {
     "name": "stdout",
     "output_type": "stream",
     "text": [
      "Ground state energy:      -40.10037430\n",
      "1st excited state energy: -22.09975131\n",
      "Energy gap between these states: 18.00062298\n"
     ]
    }
   ],
   "source": [
    "print(\"Ground state energy:      {0:.8f}\".format(exact_energies[0] * NUM_QUBITS))\n",
    "print(\"1st excited state energy: {0:.8f}\".format(exact_energies[1] * NUM_QUBITS))\n",
    "gap_per_qubit = exact_energies[1] - exact_energies[0]\n",
    "print(\"Energy gap between these states: {0:.8f}\".format(gap_per_qubit * NUM_QUBITS))"
   ]
  },
  {
   "cell_type": "markdown",
   "metadata": {},
   "source": [
    "### My own implementation"
   ]
  },
  {
   "cell_type": "markdown",
   "metadata": {},
   "source": [
    "First, we define the optimizer and the VQE instance:"
   ]
  },
  {
   "cell_type": "markdown",
   "metadata": {},
   "source": [
    "**Important observations**\n",
    "\n",
    "- SLSQP optimizer is terrible for VQD, for unknown reasons it gets stuck at some random points, returns energy way off the exact one and a messy eigenvector.\n",
    "- COBYLA is much better, but you need to set very, very low tolerance to get close to the real state (without bias field) and even then it is not guaranteed.\n",
    "- SPSA does actually a great job too, but (almost?) always falls into fully $\\ket{1111}$ or $\\ket{0000}$ state instead of a 50/50 as for exact solution without bias.\n",
    "\n",
    "I have also noticed that with high bias of 0.1, setting lower tolerance in COBYLA (1e-12) is more likely to give the correct +/- magnetisation state. There is also a small improvement in fidelity with the number of iterations, even though energy doesn't change much.\n",
    "\n",
    "Ansatz for VQD requires larger depth than VQE (about twice as much), so we change reps to 4."
   ]
  },
  {
   "cell_type": "code",
   "execution_count": 28,
   "metadata": {},
   "outputs": [],
   "source": [
    "opt = COBYLA(maxiter=5000, tol=1e-15)\n",
    "vqe = VQE(ansatz, optimizer=opt, quantum_instance=quantum_instance,\n",
    "          include_custom=True, callback=callback)\n",
    "ansatz = EfficientSU2(NUM_QUBITS, entanglement='linear',\n",
    "                      insert_barriers=True, su2_gates=['ry'], reps=4)"
   ]
  },
  {
   "cell_type": "markdown",
   "metadata": {},
   "source": [
    "#### Ground state"
   ]
  },
  {
   "cell_type": "markdown",
   "metadata": {},
   "source": [
    "Then, we calculate the ground state using VQE:"
   ]
  },
  {
   "cell_type": "code",
   "execution_count": 29,
   "metadata": {},
   "outputs": [],
   "source": [
    "intermediate_info = {\"nfev\": [], \"parameters\": [], \"energy\": [], \"stddev\": []}\n",
    "\n",
    "energy_0, opt_params_0 = find_VQE_solution(hamiltonian_0, vqe)\n",
    "eigenvector_0 = find_final_statevector(hamiltonian_0, opt_params_0, vqe)\n",
    "magnetisation_z_0 = vqe.get_energy_evaluation(z_magnetisation_op)(list(opt_params_0)) / NUM_QUBITS\n",
    "magnetisation_x_0 = vqe.get_energy_evaluation(x_magnetisation_op)(list(opt_params_0)) / NUM_QUBITS\n",
    "fidelity_0 = fidelity(exact_eigenvectors[:, 0], eigenvector_0)"
   ]
  },
  {
   "cell_type": "code",
   "execution_count": 30,
   "metadata": {},
   "outputs": [
    {
     "name": "stdout",
     "output_type": "stream",
     "text": [
      "\n",
      "==================== h = 10.000 ====================\n",
      "Ground state ENERGY per qubit:\n",
      "\tExact: -10.02509357\n",
      "\tVQE:   -10.01409955\n",
      "MAGNETISATION in z per qubit:\n",
      "\tExact: 0.000\n",
      "\tVQE:   -0.000\n",
      "MAGNETISATION in x per qubit:\n",
      "\tExact: 0.997\n",
      "\tVQE:   0.999\n",
      "FIDELITY: 0.999\n",
      "\n",
      "Ground state EIGENVECTOR:\n",
      "\tExact: [ 0.276  0.249  0.249  0.249  0.249  0.226  0.249  0.249  0.249  0.249  0.226  0.249  0.249  0.249  0.249  0.276]\n",
      "\tVQE:   [ 0.262  0.250  0.247  0.260  0.248  0.235  0.239  0.248  0.250  0.237  0.236  0.247  0.260  0.249  0.248  0.264]\n"
     ]
    },
    {
     "data": {
      "image/png": "[encoded data removed]",
      "text/plain": [
       "<Figure size 432x216 with 1 Axes>"
      ]
     },
     "metadata": {},
     "output_type": "display_data"
    }
   ],
   "source": [
    "print(\"\\n==================== h = {0:.3f} ====================\".format(h_field))\n",
    "\n",
    "print(\"Ground state ENERGY per qubit:\\n\\tExact: {0:.8f}\\n\\tVQE:   {1:.8f}\".format(exact_energies[0], energy_0))\n",
    "print(\"MAGNETISATION in z per qubit:\\n\\tExact: {0:.3f}\\n\\tVQE:   {1:.3f}\".format(exact_magnetisation_z_0, magnetisation_z_0))\n",
    "print(\"MAGNETISATION in x per qubit:\\n\\tExact: {0:.3f}\\n\\tVQE:   {1:.3f}\".format(exact_magnetisation_x_0, magnetisation_x_0))\n",
    "print(\"FIDELITY: {0:.3f}\".format(fidelity_0))\n",
    "\n",
    "np.set_printoptions(precision=3, linewidth=120, sign=' ', floatmode='fixed')\n",
    "print(\"\\nGround state EIGENVECTOR:\\n\\tExact: {0}\\n\\tVQE:   {1}\".format(exact_eigenvectors[:, 0].real, eigenvector_0.real))\n",
    "\n",
    "fig = plot_state_probabilities(exact_eigenvectors[:, 0], eigenvector_0, h_field)\n",
    "display(fig)\n",
    "plt.close()"
   ]
  },
  {
   "cell_type": "markdown",
   "metadata": {},
   "source": [
    "Here is the convergence plot. Useful for estimating the quality of optimizers."
   ]
  },
  {
   "cell_type": "code",
   "execution_count": 31,
   "metadata": {},
   "outputs": [
    {
     "data": {
      "image/png": "[encoded data removed]",
      "text/plain": [
       "<Figure size 432x288 with 1 Axes>"
      ]
     },
     "metadata": {
      "needs_background": "light"
     },
     "output_type": "display_data"
    }
   ],
   "source": [
    "plt.scatter(intermediate_info['nfev'][:-2], np.abs(np.array(intermediate_info['energy'][:-2])) / NUM_QUBITS, s=5)\n",
    "plt.yscale('log')"
   ]
  },
  {
   "cell_type": "markdown",
   "metadata": {},
   "source": [
    "#### 1st excited state"
   ]
  },
  {
   "cell_type": "markdown",
   "metadata": {},
   "source": [
    "Now, we can compute the excited state. First, we define $\\beta$, such that it is larger than the energy gap. Then we define the new Hamiltonian $H_1$, using the ground state eigenvector as found above from VQE."
   ]
  },
  {
   "cell_type": "code",
   "execution_count": 32,
   "metadata": {},
   "outputs": [],
   "source": [
    "beta = 60\n",
    "hamiltonian_1 = MatrixOp(hamiltonian_0.to_matrix()) + MatrixOp(beta * np.outer(eigenvector_0, eigenvector_0))"
   ]
  },
  {
   "cell_type": "code",
   "execution_count": 33,
   "metadata": {
    "tags": []
   },
   "outputs": [],
   "source": [
    "intermediate_info = {\"nfev\": [], \"parameters\": [], \"energy\": [], \"stddev\": []}\n",
    "\n",
    "energy_1, opt_params_1 = find_VQE_solution(hamiltonian_1, vqe)\n",
    "eigenvector_1 = find_final_statevector(hamiltonian_1, opt_params_1, vqe)\n",
    "magnetisation_z_1 = vqe.get_energy_evaluation(z_magnetisation_op)(list(opt_params_1)) / NUM_QUBITS\n",
    "magnetisation_x_1 = vqe.get_energy_evaluation(x_magnetisation_op)(list(opt_params_1)) / NUM_QUBITS\n",
    "fidelity_1 = fidelity(exact_eigenvectors[:, 1], eigenvector_1)"
   ]
  },
  {
   "cell_type": "code",
   "execution_count": 34,
   "metadata": {},
   "outputs": [
    {
     "name": "stdout",
     "output_type": "stream",
     "text": [
      "\n",
      "==================== h = 10.000 ====================\n",
      "1st excited state ENERGY per qubit:\n",
      "\tExact: -5.52493783\n",
      "\tVQE:   0.09225723\n",
      "MAGNETISATION in z per qubit:\n",
      "\tExact: 0.000\n",
      "\tVQE:   -0.307\n",
      "MAGNETISATION in x per qubit:\n",
      "\tExact: 0.498\n",
      "\tVQE:   -0.110\n",
      "FIDELITY: 0.042\n",
      "\n",
      "1st excited state EIGENVECTOR:\n",
      "\tExact: [ 5.243e-01  2.372e-01  2.372e-01 -5.737e-05  2.372e-01 -4.858e-05 -5.737e-05 -2.373e-01  2.372e-01 -5.737e-05\n",
      " -4.858e-05 -2.373e-01 -5.737e-05 -2.373e-01 -2.373e-01 -5.242e-01]\n",
      "\tVQE:   [ 0.015 -0.042 -0.010 -0.097  0.059  0.020  0.391 -0.650  0.019  0.028 -0.012  0.067  0.048  0.070 -0.145 -0.066]\n"
     ]
    },
    {
     "data": {
      "image/png": "[encoded data removed]",
      "text/plain": [
       "<Figure size 432x216 with 1 Axes>"
      ]
     },
     "metadata": {},
     "output_type": "display_data"
    }
   ],
   "source": [
    "print(\"\\n==================== h = {0:.3f} ====================\".format(h_field))\n",
    "\n",
    "print(\"1st excited state ENERGY per qubit:\\n\\tExact: {0:.8f}\\n\\tVQE:   {1:.8f}\".format(exact_energies[1], energy_1))\n",
    "print(\"MAGNETISATION in z per qubit:\\n\\tExact: {0:.3f}\\n\\tVQE:   {1:.3f}\".format(exact_magnetisation_z_1, magnetisation_z_1))\n",
    "print(\"MAGNETISATION in x per qubit:\\n\\tExact: {0:.3f}\\n\\tVQE:   {1:.3f}\".format(exact_magnetisation_x_1, magnetisation_x_1))\n",
    "print(\"FIDELITY: {0:.3f}\".format(fidelity_1))\n",
    "\n",
    "np.set_printoptions(precision=3, linewidth=120, sign=' ', floatmode='fixed')\n",
    "print(\"\\n1st excited state EIGENVECTOR:\\n\\tExact: {0}\\n\\tVQE:   {1}\".format(exact_eigenvectors[:, 1].real, eigenvector_1.real))\n",
    "\n",
    "fig = plot_state_probabilities(exact_eigenvectors[:, 1], eigenvector_1, h_field)\n",
    "display(fig)\n",
    "plt.close()"
   ]
  },
  {
   "cell_type": "code",
   "execution_count": 35,
   "metadata": {},
   "outputs": [
    {
     "data": {
      "text/plain": [
       "<matplotlib.collections.PathCollection at 0x1fa5f906bc0>"
      ]
     },
     "execution_count": 35,
     "metadata": {},
     "output_type": "execute_result"
    },
    {
     "data": {
      "image/png": "[encoded data removed]",
      "text/plain": [
       "<Figure size 432x288 with 1 Axes>"
      ]
     },
     "metadata": {
      "needs_background": "light"
     },
     "output_type": "display_data"
    }
   ],
   "source": [
    "plt.scatter(intermediate_info['nfev'][:-2], np.array(intermediate_info['energy'][:-2]) / NUM_QUBITS, s=5)"
   ]
  },
  {
   "cell_type": "markdown",
   "metadata": {},
   "source": [
    "**THINGS TO CONSIDER:**\n",
    "- Bias or no bias?\n",
    "- Optimizer choice\n",
    "- Improving ground state eigenvector\n",
    "- Choice of $\\beta$ parameter\n",
    "- Ansatz\n",
    "\n",
    "\n",
    "I have checked that increasing the ansatz depth to 4 (from 2 for simple VQE) does help in finding the correct energy. The x-magnetisation also looks good now, but z-magnetisation does not, which is due to very low state fidelity - or maybe I was just lucky one time."
   ]
  },
  {
   "cell_type": "markdown",
   "metadata": {
    "tags": []
   },
   "source": [
    "### Qiskit's implementation"
   ]
  },
  {
   "cell_type": "markdown",
   "metadata": {},
   "source": [
    "This is the built-in Qiskit's implementation of the VQD algorithm:"
   ]
  },
  {
   "cell_type": "code",
   "execution_count": 36,
   "metadata": {},
   "outputs": [],
   "source": [
    "beta = 50\n",
    "opt = COBYLA(maxiter=5000, tol=1e-12)\n",
    "vqd = VQD(ansatz=ansatz, k=3, betas=[beta, beta], include_custom=True, quantum_instance=quantum_instance, optimizer=opt)"
   ]
  },
  {
   "cell_type": "code",
   "execution_count": 37,
   "metadata": {},
   "outputs": [],
   "source": [
    "result = vqd.compute_eigenvalues(hamiltonian_0, aux_operators=[z_magnetisation_op, x_magnetisation_op])"
   ]
  },
  {
   "cell_type": "markdown",
   "metadata": {},
   "source": [
    "First, the results for the ground state:"
   ]
  },
  {
   "cell_type": "code",
   "execution_count": 38,
   "metadata": {},
   "outputs": [],
   "source": [
    "energy_0 = result.eigenvalues[0].real / NUM_QUBITS\n",
    "eigenvector_0 = result.eigenstates[0].to_matrix()\n",
    "magnetisation_z_0 = result.aux_operator_eigenvalues[0][0][0] / NUM_QUBITS\n",
    "magnetisation_x_0 = result.aux_operator_eigenvalues[0][1][0] / NUM_QUBITS\n",
    "fidelity_0 = fidelity(exact_eigenvectors[:, 0], eigenvector_0)"
   ]
  },
  {
   "cell_type": "code",
   "execution_count": 39,
   "metadata": {},
   "outputs": [
    {
     "name": "stdout",
     "output_type": "stream",
     "text": [
      "\n",
      "==================== h = 10.000 ====================\n",
      "Ground state ENERGY per qubit:\n",
      "\tExact: -10.025\n",
      "\tVQE: -10.021\n",
      "MAGNETISATION in z per qubit:\n",
      "\tExact: 0.000\n",
      "\tVQE: 0.000\n",
      "MAGNETISATION in x per qubit:\n",
      "\tExact: 0.997\n",
      "\tVQE: 0.998\n",
      "FIDELITY: 0.993\n",
      "\n",
      "Ground state EIGENVECTOR:\n",
      "\tExact: [ 0.276  0.249  0.249  0.249  0.249  0.226  0.249  0.249  0.249  0.249  0.226  0.249  0.249  0.249  0.249  0.276]\n",
      "\tVQE: [ 0.269  0.272  0.246  0.200  0.219  0.228  0.272  0.244  0.242  0.276  0.225  0.250  0.267  0.242  0.280  0.252]\n"
     ]
    },
    {
     "data": {
      "image/png": "[encoded data removed]",
      "text/plain": [
       "<Figure size 432x216 with 1 Axes>"
      ]
     },
     "metadata": {},
     "output_type": "display_data"
    }
   ],
   "source": [
    "print(\"\\n==================== h = {0:.3f} ====================\".format(h_field))\n",
    "\n",
    "print(\"Ground state ENERGY per qubit:\\n\\tExact: {0:.3f}\\n\\tVQE: {1:.3f}\".format(exact_energies[0], energy_0))\n",
    "print(\"MAGNETISATION in z per qubit:\\n\\tExact: {0:.3f}\\n\\tVQE: {1:.3f}\".format(exact_magnetisation_z_0, magnetisation_z_0))\n",
    "print(\"MAGNETISATION in x per qubit:\\n\\tExact: {0:.3f}\\n\\tVQE: {1:.3f}\".format(exact_magnetisation_x_0, magnetisation_x_0))\n",
    "print(\"FIDELITY: {0:.3f}\".format(fidelity_0))\n",
    "\n",
    "np.set_printoptions(precision=3, linewidth=120)\n",
    "print(\"\\nGround state EIGENVECTOR:\\n\\tExact: {0}\\n\\tVQE: {1}\".format(exact_eigenvectors[:, 0].real, eigenvector_0.real))\n",
    "\n",
    "fig = plot_state_probabilities(exact_eigenvectors[:, 0], eigenvector_0, h_field)\n",
    "display(fig)\n",
    "plt.close()"
   ]
  },
  {
   "cell_type": "markdown",
   "metadata": {},
   "source": [
    "And next, the 1st excited state:"
   ]
  },
  {
   "cell_type": "code",
   "execution_count": 40,
   "metadata": {},
   "outputs": [],
   "source": [
    "energy_1 = result.eigenvalues[1].real / NUM_QUBITS\n",
    "eigenvector_1 = result.eigenstates[1].to_matrix()\n",
    "magnetisation_z_1 = result.aux_operator_eigenvalues[1][0][0] / NUM_QUBITS\n",
    "magnetisation_x_1 = result.aux_operator_eigenvalues[1][1][0] / NUM_QUBITS\n",
    "fidelity_1 = fidelity(exact_eigenvectors[:, 1], eigenvector_1)"
   ]
  },
  {
   "cell_type": "code",
   "execution_count": 41,
   "metadata": {},
   "outputs": [
    {
     "name": "stdout",
     "output_type": "stream",
     "text": [
      "\n",
      "==================== h = 10.000 ====================\n",
      "1st excited state ENERGY per qubit:\n",
      "\tExact: -5.525\n",
      "\tVQE: -4.926\n",
      "MAGNETISATION in z per qubit:\n",
      "\tExact: 0.000\n",
      "\tVQE: -0.010\n",
      "MAGNETISATION in x per qubit:\n",
      "\tExact: 0.498\n",
      "\tVQE: 0.497\n",
      "FIDELITY: 0.001\n",
      "\n",
      "1st excited state EIGENVECTOR:\n",
      "\tExact: [ 5.243e-01  2.372e-01  2.372e-01 -5.737e-05  2.372e-01 -4.858e-05 -5.737e-05 -2.373e-01  2.372e-01 -5.737e-05\n",
      " -4.858e-05 -2.373e-01 -5.737e-05 -2.373e-01 -2.373e-01 -5.242e-01]\n",
      "\tVQE: [ 0.000  0.000  0.214  0.117  0.288  0.125  0.471  0.320  0.338  0.468  0.153  0.286  0.133  0.240  0.000  0.062]\n"
     ]
    },
    {
     "data": {
      "image/png": "[encoded data removed]",
      "text/plain": [
       "<Figure size 432x216 with 1 Axes>"
      ]
     },
     "metadata": {},
     "output_type": "display_data"
    }
   ],
   "source": [
    "print(\"\\n==================== h = {0:.3f} ====================\".format(h_field))\n",
    "\n",
    "print(\"1st excited state ENERGY per qubit:\\n\\tExact: {0:.3f}\\n\\tVQE: {1:.3f}\".format(exact_energies[1], energy_1))\n",
    "print(\"MAGNETISATION in z per qubit:\\n\\tExact: {0:.3f}\\n\\tVQE: {1:.3f}\".format(exact_magnetisation_z_1, magnetisation_z_1))\n",
    "print(\"MAGNETISATION in x per qubit:\\n\\tExact: {0:.3f}\\n\\tVQE: {1:.3f}\".format(exact_magnetisation_x_1, magnetisation_x_1))\n",
    "print(\"FIDELITY: {0:.3f}\".format(fidelity_1))\n",
    "\n",
    "np.set_printoptions(precision=3, linewidth=120)\n",
    "print(\"\\n1st excited state EIGENVECTOR:\\n\\tExact: {0}\\n\\tVQE: {1}\".format(exact_eigenvectors[:, 1].real, eigenvector_1.real))\n",
    "\n",
    "fig = plot_state_probabilities(exact_eigenvectors[:, 1], eigenvector_1, h_field)\n",
    "display(fig)\n",
    "plt.close()"
   ]
  },
  {
   "cell_type": "code",
   "execution_count": 42,
   "metadata": {},
   "outputs": [],
   "source": [
    "energy_2 = result.eigenvalues[2].real / NUM_QUBITS\n",
    "eigenvector_2 = result.eigenstates[2].to_matrix()\n",
    "magnetisation_z_2 = result.aux_operator_eigenvalues[2][0][0] / NUM_QUBITS\n",
    "magnetisation_x_2 = result.aux_operator_eigenvalues[2][1][0] / NUM_QUBITS\n",
    "fidelity_2 = fidelity(exact_eigenvectors[:, 2], eigenvector_2)"
   ]
  },
  {
   "cell_type": "code",
   "execution_count": 43,
   "metadata": {},
   "outputs": [
    {
     "name": "stdout",
     "output_type": "stream",
     "text": [
      "\n",
      "==================== h = 10.000 ====================\n",
      "2nd excited state ENERGY per qubit:\n",
      "\tExact: -5.525\n",
      "\tVQE: -4.897\n",
      "MAGNETISATION in z per qubit:\n",
      "\tExact: 0.000\n",
      "\tVQE: -0.002\n",
      "MAGNETISATION in x per qubit:\n",
      "\tExact: 0.498\n",
      "\tVQE: 0.496\n",
      "FIDELITY: 0.000\n",
      "\n",
      "1st excited state EIGENVECTOR:\n",
      "\tExact: [ 5.243e-01  2.372e-01  2.372e-01 -5.737e-05  2.372e-01 -4.858e-05 -5.737e-05 -2.373e-01  2.372e-01 -5.737e-05\n",
      " -4.858e-05 -2.373e-01 -5.737e-05 -2.373e-01 -2.373e-01 -5.242e-01]\n",
      "\tVQE: [ 0.000  0.417  0.044  0.428  0.210  0.223  0.205  0.185  0.190  0.203  0.113  0.162  0.406  0.000  0.432  0.054]\n"
     ]
    },
    {
     "data": {
      "image/png": "[encoded data removed]",
      "text/plain": [
       "<Figure size 432x216 with 1 Axes>"
      ]
     },
     "metadata": {},
     "output_type": "display_data"
    }
   ],
   "source": [
    "print(\"\\n==================== h = {0:.3f} ====================\".format(h_field))\n",
    "\n",
    "print(\"2nd excited state ENERGY per qubit:\\n\\tExact: {0:.3f}\\n\\tVQE: {1:.3f}\".format(exact_energies[1], energy_2))\n",
    "print(\"MAGNETISATION in z per qubit:\\n\\tExact: {0:.3f}\\n\\tVQE: {1:.3f}\".format(exact_magnetisation_z_2, magnetisation_z_2))\n",
    "print(\"MAGNETISATION in x per qubit:\\n\\tExact: {0:.3f}\\n\\tVQE: {1:.3f}\".format(exact_magnetisation_x_2, magnetisation_x_2))\n",
    "print(\"FIDELITY: {0:.3f}\".format(fidelity_1))\n",
    "\n",
    "np.set_printoptions(precision=3, linewidth=120)\n",
    "print(\"\\n1st excited state EIGENVECTOR:\\n\\tExact: {0}\\n\\tVQE: {1}\".format(exact_eigenvectors[:, 2].real, eigenvector_2.real))\n",
    "\n",
    "fig = plot_state_probabilities(exact_eigenvectors[:, 2], eigenvector_2, h_field)\n",
    "display(fig)\n",
    "plt.close()"
   ]
  }
 ],
 "metadata": {
  "kernelspec": {
   "display_name": "Python 3 (ipykernel)",
   "language": "python",
   "name": "python3"
  },
  "language_info": {
   "codemirror_mode": {
    "name": "ipython",
    "version": 3
   },
   "file_extension": ".py",
   "mimetype": "text/x-python",
   "name": "python",
   "nbconvert_exporter": "python",
   "pygments_lexer": "ipython3",
   "version": "3.10.4"
  },
  "toc-autonumbering": true
 },
 "nbformat": 4,
 "nbformat_minor": 4
}
